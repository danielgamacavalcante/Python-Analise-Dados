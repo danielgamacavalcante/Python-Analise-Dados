{
 "cells": [
  {
   "cell_type": "markdown",
   "id": "364ad898",
   "metadata": {},
   "source": [
    "# Aula 01 - Introdução à Análise de Dados com Python"
   ]
  },
  {
   "cell_type": "markdown",
   "id": "352eb334",
   "metadata": {},
   "source": [
    "### Tópicos Abordados:"
   ]
  },
  {
   "cell_type": "markdown",
   "id": "9e4884a8",
   "metadata": {},
   "source": [
    "#### 1. Aálise Exploratória de dados (EDA): Técnicas para compreender a estrutura, padrões e distribuição das variáveis.\n",
    "#### 2. Tratamento de dados  ausentes (missing values) e valores discrepantes (outliers): estratégias para lidar com dados incompletos ou inconsistentes."
   ]
  },
  {
   "cell_type": "markdown",
   "id": "0738b17d",
   "metadata": {},
   "source": [
    "## Base de dados"
   ]
  },
  {
   "cell_type": "markdown",
   "id": "410e9e1f",
   "metadata": {},
   "source": [
    "# Passo 1: Configurando ambinte de desenvolvimento"
   ]
  },
  {
   "cell_type": "markdown",
   "id": "e77f7ecd",
   "metadata": {},
   "source": [
    "### Instalação das bibliotecas"
   ]
  },
  {
   "cell_type": "code",
   "execution_count": 9,
   "id": "727cac98",
   "metadata": {},
   "outputs": [
    {
     "name": "stdout",
     "output_type": "stream",
     "text": [
      "Note: you may need to restart the kernel to use updated packages.\n"
     ]
    }
   ],
   "source": [
    "%pip install -q pandas sqlalchemy sqlalchemy-utils psycopg2-binary openpyxl"
   ]
  },
  {
   "cell_type": "code",
   "execution_count": 2,
   "id": "990902ce",
   "metadata": {},
   "outputs": [
    {
     "name": "stdout",
     "output_type": "stream",
     "text": [
      "Note: you may need to restart the kernel to use updated packages.\n"
     ]
    }
   ],
   "source": [
    "%pip install -q seaborn matplotlib"
   ]
  },
  {
   "cell_type": "code",
   "execution_count": 11,
   "id": "b1fc69c7",
   "metadata": {},
   "outputs": [],
   "source": [
    "import pandas as pd\n",
    "from sqlalchemy import create_engine\n",
    "from sqlalchemy_utils import database_exists,create_database\n",
    "import matplotlib.pyplot as plt\n",
    "import numpy as np\n",
    "import seaborn as sns\n",
    "import psycopg2\n",
    "import warnings\n",
    "\n",
    "warnings.filterwarnings('ignore')"
   ]
  },
  {
   "cell_type": "markdown",
   "id": "08943d81",
   "metadata": {},
   "source": [
    "## Passo 2: Extração de dados (EXTRACT)"
   ]
  },
  {
   "cell_type": "code",
   "execution_count": 54,
   "id": "57c40f40",
   "metadata": {},
   "outputs": [
    {
     "name": "stdout",
     "output_type": "stream",
     "text": [
      "Head:\n"
     ]
    },
    {
     "data": {
      "text/html": [
       "<div>\n",
       "<style scoped>\n",
       "    .dataframe tbody tr th:only-of-type {\n",
       "        vertical-align: middle;\n",
       "    }\n",
       "\n",
       "    .dataframe tbody tr th {\n",
       "        vertical-align: top;\n",
       "    }\n",
       "\n",
       "    .dataframe thead th {\n",
       "        text-align: right;\n",
       "    }\n",
       "</style>\n",
       "<table border=\"1\" class=\"dataframe\">\n",
       "  <thead>\n",
       "    <tr style=\"text-align: right;\">\n",
       "      <th></th>\n",
       "      <th>CLIENTE</th>\n",
       "      <th>STATUS</th>\n",
       "      <th>IDADE</th>\n",
       "      <th>UNIFED</th>\n",
       "      <th>RESID</th>\n",
       "      <th>TMPRSD</th>\n",
       "      <th>FONE</th>\n",
       "      <th>ECIV</th>\n",
       "      <th>INSTRU</th>\n",
       "      <th>RNDTOT</th>\n",
       "      <th>RST</th>\n",
       "    </tr>\n",
       "  </thead>\n",
       "  <tbody>\n",
       "    <tr>\n",
       "      <th>0</th>\n",
       "      <td>CLI_0001</td>\n",
       "      <td>mau</td>\n",
       "      <td>44.0</td>\n",
       "      <td>MG</td>\n",
       "      <td>PROP</td>\n",
       "      <td>5.0</td>\n",
       "      <td>1</td>\n",
       "      <td>CAS</td>\n",
       "      <td>SEC</td>\n",
       "      <td>6040</td>\n",
       "      <td>sim</td>\n",
       "    </tr>\n",
       "    <tr>\n",
       "      <th>1</th>\n",
       "      <td>CLI_0002</td>\n",
       "      <td>bom</td>\n",
       "      <td>46.0</td>\n",
       "      <td>MG</td>\n",
       "      <td>ALUG</td>\n",
       "      <td>12.0</td>\n",
       "      <td>1</td>\n",
       "      <td>CAS</td>\n",
       "      <td>SUP</td>\n",
       "      <td>6986</td>\n",
       "      <td>sim</td>\n",
       "    </tr>\n",
       "    <tr>\n",
       "      <th>2</th>\n",
       "      <td>CLI_0003</td>\n",
       "      <td>bom</td>\n",
       "      <td>56.0</td>\n",
       "      <td>MG</td>\n",
       "      <td>PROP</td>\n",
       "      <td>12.0</td>\n",
       "      <td>1</td>\n",
       "      <td>CAS</td>\n",
       "      <td>SUP</td>\n",
       "      <td>8797</td>\n",
       "      <td>sim</td>\n",
       "    </tr>\n",
       "    <tr>\n",
       "      <th>3</th>\n",
       "      <td>CLI_0004</td>\n",
       "      <td>bom</td>\n",
       "      <td>31.0</td>\n",
       "      <td>RJ</td>\n",
       "      <td>ALUG</td>\n",
       "      <td>4.0</td>\n",
       "      <td>1</td>\n",
       "      <td>CAS</td>\n",
       "      <td>SEC</td>\n",
       "      <td>4968</td>\n",
       "      <td>sim</td>\n",
       "    </tr>\n",
       "    <tr>\n",
       "      <th>4</th>\n",
       "      <td>CLI_0005</td>\n",
       "      <td>bom</td>\n",
       "      <td>46.0</td>\n",
       "      <td>RJ</td>\n",
       "      <td>PROP</td>\n",
       "      <td>8.0</td>\n",
       "      <td>1</td>\n",
       "      <td>CAS</td>\n",
       "      <td>NaN</td>\n",
       "      <td>7430</td>\n",
       "      <td>sim</td>\n",
       "    </tr>\n",
       "  </tbody>\n",
       "</table>\n",
       "</div>"
      ],
      "text/plain": [
       "    CLIENTE STATUS  IDADE UNIFED RESID  TMPRSD  FONE ECIV INSTRU  RNDTOT  RST\n",
       "0  CLI_0001    mau   44.0     MG  PROP     5.0     1  CAS    SEC    6040  sim\n",
       "1  CLI_0002    bom   46.0     MG  ALUG    12.0     1  CAS    SUP    6986  sim\n",
       "2  CLI_0003    bom   56.0     MG  PROP    12.0     1  CAS    SUP    8797  sim\n",
       "3  CLI_0004    bom   31.0     RJ  ALUG     4.0     1  CAS    SEC    4968  sim\n",
       "4  CLI_0005    bom   46.0     RJ  PROP     8.0     1  CAS    NaN    7430  sim"
      ]
     },
     "metadata": {},
     "output_type": "display_data"
    },
    {
     "name": "stdout",
     "output_type": "stream",
     "text": [
      "info:\n",
      "<class 'pandas.core.frame.DataFrame'>\n",
      "RangeIndex: 2800 entries, 0 to 2799\n",
      "Data columns (total 11 columns):\n",
      " #   Column   Non-Null Count  Dtype  \n",
      "---  ------   --------------  -----  \n",
      " 0   CLIENTE  2800 non-null   object \n",
      " 1   STATUS   2800 non-null   object \n",
      " 2   IDADE    2797 non-null   float64\n",
      " 3   UNIFED   2800 non-null   object \n",
      " 4   RESID    2692 non-null   object \n",
      " 5   TMPRSD   2795 non-null   float64\n",
      " 6   FONE     2800 non-null   int64  \n",
      " 7   ECIV     2800 non-null   object \n",
      " 8   INSTRU   2062 non-null   object \n",
      " 9   RNDTOT   2800 non-null   int64  \n",
      " 10  RST      2800 non-null   object \n",
      "dtypes: float64(2), int64(2), object(7)\n",
      "memory usage: 240.8+ KB\n"
     ]
    },
    {
     "data": {
      "text/plain": [
       "None"
      ]
     },
     "metadata": {},
     "output_type": "display_data"
    }
   ],
   "source": [
    "path = r'dados/dirtyshop.xlsx'\n",
    "df_dirtyshop = pd.read_excel(path)\n",
    "\n",
    "print('Head:')\n",
    "display(df_dirtyshop.head())\n",
    "print('info:')\n",
    "display(df_dirtyshop.info())"
   ]
  },
  {
   "cell_type": "code",
   "execution_count": 55,
   "id": "6f7c7d93",
   "metadata": {},
   "outputs": [
    {
     "name": "stdout",
     "output_type": "stream",
     "text": [
      "Dimensão do DataFrame: (2800, 11)\n",
      "\n",
      "========================================\n",
      "\n",
      "Informações gerais por coluna:\n",
      "<class 'pandas.core.frame.DataFrame'>\n",
      "RangeIndex: 2800 entries, 0 to 2799\n",
      "Data columns (total 11 columns):\n",
      " #   Column   Non-Null Count  Dtype  \n",
      "---  ------   --------------  -----  \n",
      " 0   CLIENTE  2800 non-null   object \n",
      " 1   STATUS   2800 non-null   object \n",
      " 2   IDADE    2797 non-null   float64\n",
      " 3   UNIFED   2800 non-null   object \n",
      " 4   RESID    2692 non-null   object \n",
      " 5   TMPRSD   2795 non-null   float64\n",
      " 6   FONE     2800 non-null   int64  \n",
      " 7   ECIV     2800 non-null   object \n",
      " 8   INSTRU   2062 non-null   object \n",
      " 9   RNDTOT   2800 non-null   int64  \n",
      " 10  RST      2800 non-null   object \n",
      "dtypes: float64(2), int64(2), object(7)\n",
      "memory usage: 240.8+ KB\n"
     ]
    }
   ],
   "source": [
    "# Exibe a quantidade de linhas e colunas do DataFrame\n",
    "print(f\"Dimensão do DataFrame: {df_dirtyshop.shape}\")\n",
    "\n",
    "# Separador visual\n",
    "print(\"\\n\" + \"=\"*40 + \"\\n\")\n",
    "\n",
    "# Exibe informações gerais sobre cada coluna: tipo de dado, valores não nulos, etc.\n",
    "print(\"Informações gerais por coluna:\")\n",
    "df_dirtyshop.info()"
   ]
  },
  {
   "cell_type": "markdown",
   "id": "432dbd68",
   "metadata": {},
   "source": [
    "## Passo 3: Transformação e análise dos dados"
   ]
  },
  {
   "cell_type": "code",
   "execution_count": 56,
   "id": "d5ef271c",
   "metadata": {},
   "outputs": [
    {
     "name": "stdout",
     "output_type": "stream",
     "text": [
      "Variáveis Quantitativas: ['IDADE', 'TMPRSD', 'FONE', 'RNDTOT']\n"
     ]
    }
   ],
   "source": [
    "variaveis_quantitativas = df_dirtyshop.select_dtypes(include=['number']).columns.tolist()\n",
    "print(f\"Variáveis Quantitativas: {variaveis_quantitativas}\")"
   ]
  },
  {
   "cell_type": "code",
   "execution_count": 57,
   "id": "14ec28d4",
   "metadata": {},
   "outputs": [
    {
     "name": "stdout",
     "output_type": "stream",
     "text": [
      "Variáveis Qualitativa: ['CLIENTE', 'STATUS', 'UNIFED', 'RESID', 'ECIV', 'INSTRU', 'RST']\n"
     ]
    }
   ],
   "source": [
    "variaveis_qualitativas = df_dirtyshop.select_dtypes(include=['object', 'category']).columns.tolist()\n",
    "print(f\"Variáveis Qualitativa: {variaveis_qualitativas}\")"
   ]
  },
  {
   "cell_type": "markdown",
   "id": "3dcfbbd3",
   "metadata": {},
   "source": [
    "### Análise das variáveis qualitativa ou categoricas"
   ]
  },
  {
   "cell_type": "code",
   "execution_count": 58,
   "id": "5b228b33",
   "metadata": {},
   "outputs": [
    {
     "data": {
      "text/html": [
       "<div>\n",
       "<style scoped>\n",
       "    .dataframe tbody tr th:only-of-type {\n",
       "        vertical-align: middle;\n",
       "    }\n",
       "\n",
       "    .dataframe tbody tr th {\n",
       "        vertical-align: top;\n",
       "    }\n",
       "\n",
       "    .dataframe thead th {\n",
       "        text-align: right;\n",
       "    }\n",
       "</style>\n",
       "<table border=\"1\" class=\"dataframe\">\n",
       "  <thead>\n",
       "    <tr style=\"text-align: right;\">\n",
       "      <th></th>\n",
       "      <th>CLIENTE</th>\n",
       "      <th>STATUS</th>\n",
       "      <th>UNIFED</th>\n",
       "      <th>RESID</th>\n",
       "      <th>ECIV</th>\n",
       "      <th>INSTRU</th>\n",
       "      <th>RST</th>\n",
       "    </tr>\n",
       "  </thead>\n",
       "  <tbody>\n",
       "    <tr>\n",
       "      <th>count</th>\n",
       "      <td>2800</td>\n",
       "      <td>2800</td>\n",
       "      <td>2800</td>\n",
       "      <td>2692</td>\n",
       "      <td>2800</td>\n",
       "      <td>2062</td>\n",
       "      <td>2800</td>\n",
       "    </tr>\n",
       "    <tr>\n",
       "      <th>unique</th>\n",
       "      <td>2800</td>\n",
       "      <td>2</td>\n",
       "      <td>6</td>\n",
       "      <td>4</td>\n",
       "      <td>7</td>\n",
       "      <td>3</td>\n",
       "      <td>3</td>\n",
       "    </tr>\n",
       "    <tr>\n",
       "      <th>top</th>\n",
       "      <td>CLI_0001</td>\n",
       "      <td>bom</td>\n",
       "      <td>RJ</td>\n",
       "      <td>PROP</td>\n",
       "      <td>CAS</td>\n",
       "      <td>SUP</td>\n",
       "      <td>sim</td>\n",
       "    </tr>\n",
       "    <tr>\n",
       "      <th>freq</th>\n",
       "      <td>1</td>\n",
       "      <td>1948</td>\n",
       "      <td>1318</td>\n",
       "      <td>2179</td>\n",
       "      <td>1758</td>\n",
       "      <td>1252</td>\n",
       "      <td>2467</td>\n",
       "    </tr>\n",
       "  </tbody>\n",
       "</table>\n",
       "</div>"
      ],
      "text/plain": [
       "         CLIENTE STATUS UNIFED RESID  ECIV INSTRU   RST\n",
       "count       2800   2800   2800  2692  2800   2062  2800\n",
       "unique      2800      2      6     4     7      3     3\n",
       "top     CLI_0001    bom     RJ  PROP   CAS    SUP   sim\n",
       "freq           1   1948   1318  2179  1758   1252  2467"
      ]
     },
     "execution_count": 58,
     "metadata": {},
     "output_type": "execute_result"
    }
   ],
   "source": [
    "df_dirtyshop.describe(include='object')"
   ]
  },
  {
   "cell_type": "markdown",
   "id": "f94bff3b",
   "metadata": {},
   "source": [
    "### Análise de variáveç 'STATUS'"
   ]
  },
  {
   "cell_type": "code",
   "execution_count": 59,
   "id": "46bca982",
   "metadata": {},
   "outputs": [],
   "source": [
    "# Transformando dados em maiúsculo\n",
    "df_dirtyshop['STATUS'] = df_dirtyshop['STATUS'].str.upper()"
   ]
  },
  {
   "cell_type": "code",
   "execution_count": 60,
   "id": "85b68fd5",
   "metadata": {},
   "outputs": [
    {
     "name": "stdout",
     "output_type": "stream",
     "text": [
      "STATUS\n",
      "BOM    1948\n",
      "MAU     852\n",
      "Name: count, dtype: int64\n",
      "\n",
      "Total de registros na classe: 2800\n",
      "Total de registros na base: 2800\n"
     ]
    }
   ],
   "source": [
    "# Contagem de frequência para cada categoria da variável 'STATUS'\n",
    "print(df_dirtyshop[\"STATUS\"].value_counts(dropna=False))\n",
    "\n",
    "# maneira elegante de apresentar os resultados\n",
    "print(f\"\\nTotal de registros na classe: {df_dirtyshop['STATUS'].value_counts(dropna=False).sum()}\")\n",
    "print(f\"Total de registros na base: {df_dirtyshop.shape[0]}\")"
   ]
  },
  {
   "cell_type": "markdown",
   "id": "41d4fcab",
   "metadata": {},
   "source": [
    "### Análise de variável UNIFED:"
   ]
  },
  {
   "cell_type": "code",
   "execution_count": 61,
   "id": "cf0c957f",
   "metadata": {},
   "outputs": [
    {
     "name": "stdout",
     "output_type": "stream",
     "text": [
      "UNIFED\n",
      "RJ      1318\n",
      "SC       787\n",
      "MG       544\n",
      "SP       149\n",
      "S.P.       1\n",
      "BH         1\n",
      "Name: count, dtype: int64\n",
      "\n",
      "Total de registros na classe: 2800\n",
      "Total de registros na base: 2800\n"
     ]
    }
   ],
   "source": [
    "# Contagem de frequência para cada categoria da variável 'UNIFED'\n",
    "print(df_dirtyshop[\"UNIFED\"].value_counts(dropna=False))\n",
    "\n",
    "# maneira elegante de apresentar os resultados\n",
    "print(f\"\\nTotal de registros na classe: {df_dirtyshop['UNIFED'].value_counts(dropna=False).sum()}\")\n",
    "print(f\"Total de registros na base: {df_dirtyshop.shape[0]}\")"
   ]
  },
  {
   "cell_type": "code",
   "execution_count": 62,
   "id": "ba0923d2",
   "metadata": {},
   "outputs": [],
   "source": [
    "# substitui os valores da coluna 'UNIFED'\n",
    "df_dirtyshop[\"UNIFED\"] =  df_dirtyshop[\"UNIFED\"].replace({\n",
    "    'S.P.':'SP',\n",
    "    'BH':'MG'\n",
    "})"
   ]
  },
  {
   "cell_type": "code",
   "execution_count": 63,
   "id": "d112a1c6",
   "metadata": {},
   "outputs": [
    {
     "name": "stdout",
     "output_type": "stream",
     "text": [
      "UNIFED\n",
      "RJ    1318\n",
      "SC     787\n",
      "MG     545\n",
      "SP     150\n",
      "Name: count, dtype: int64\n"
     ]
    }
   ],
   "source": [
    "# Contagem de frequência para cada categoria da variável 'UNIFED'\n",
    "print(df_dirtyshop['UNIFED'].value_counts(dropna=False))"
   ]
  },
  {
   "cell_type": "code",
   "execution_count": 64,
   "id": "37fafa63",
   "metadata": {},
   "outputs": [
    {
     "data": {
      "text/html": [
       "<div>\n",
       "<style scoped>\n",
       "    .dataframe tbody tr th:only-of-type {\n",
       "        vertical-align: middle;\n",
       "    }\n",
       "\n",
       "    .dataframe tbody tr th {\n",
       "        vertical-align: top;\n",
       "    }\n",
       "\n",
       "    .dataframe thead th {\n",
       "        text-align: right;\n",
       "    }\n",
       "</style>\n",
       "<table border=\"1\" class=\"dataframe\">\n",
       "  <thead>\n",
       "    <tr style=\"text-align: right;\">\n",
       "      <th></th>\n",
       "      <th>UNIFED</th>\n",
       "      <th>Proporção</th>\n",
       "    </tr>\n",
       "  </thead>\n",
       "  <tbody>\n",
       "    <tr>\n",
       "      <th>0</th>\n",
       "      <td>RJ</td>\n",
       "      <td>0.470714</td>\n",
       "    </tr>\n",
       "    <tr>\n",
       "      <th>1</th>\n",
       "      <td>SC</td>\n",
       "      <td>0.281071</td>\n",
       "    </tr>\n",
       "    <tr>\n",
       "      <th>2</th>\n",
       "      <td>MG</td>\n",
       "      <td>0.194643</td>\n",
       "    </tr>\n",
       "    <tr>\n",
       "      <th>3</th>\n",
       "      <td>SP</td>\n",
       "      <td>0.053571</td>\n",
       "    </tr>\n",
       "  </tbody>\n",
       "</table>\n",
       "</div>"
      ],
      "text/plain": [
       "  UNIFED  Proporção\n",
       "0     RJ   0.470714\n",
       "1     SC   0.281071\n",
       "2     MG   0.194643\n",
       "3     SP   0.053571"
      ]
     },
     "execution_count": 64,
     "metadata": {},
     "output_type": "execute_result"
    }
   ],
   "source": [
    "# verificando os valores em formato de tabela e por proporção\n",
    "# df[\"UNIFED\"].value_counts(normalize=True).reset_index().rename(columns={\"count\":\"QTDE\"})\n",
    "\n",
    "df_dirtyshop[\"UNIFED\"].value_counts(normalize=True)\\\n",
    "    .reset_index()\\\n",
    "    .rename(columns={\"proportion\":\"Proporção\"})\\\n",
    "    .sort_values(by=\"Proporção\", ascending=False)"
   ]
  },
  {
   "cell_type": "markdown",
   "id": "f8b497a0",
   "metadata": {},
   "source": [
    "### Análisenado Variável RESID:"
   ]
  },
  {
   "cell_type": "code",
   "execution_count": 65,
   "id": "0548f415",
   "metadata": {},
   "outputs": [
    {
     "name": "stdout",
     "output_type": "stream",
     "text": [
      "RESID\n",
      "PROP    2179\n",
      "ALUG     324\n",
      "OUTR     188\n",
      "NaN      108\n",
      "pROP       1\n",
      "Name: count, dtype: int64\n",
      "\n",
      "Total de registros na classe: 2800\n",
      "Total de registros na base: 2800\n"
     ]
    }
   ],
   "source": [
    "# Contagem de frequência para cada categoria da variável 'RESID'\n",
    "print(df_dirtyshop[\"RESID\"].value_counts(dropna=False))\n",
    "\n",
    "# maneira elegante de apresentar os resultados\n",
    "print(f\"\\nTotal de registros na classe: {df_dirtyshop['RESID'].value_counts(dropna=False).sum()}\")\n",
    "print(f\"Total de registros na base: {df_dirtyshop.shape[0]}\")"
   ]
  },
  {
   "cell_type": "code",
   "execution_count": 66,
   "id": "b0e354d0",
   "metadata": {},
   "outputs": [],
   "source": [
    "# substitui os valores da coluna 'RESID'\n",
    "df_dirtyshop[\"RESID\"] = df_dirtyshop[\"RESID\"].replace({\n",
    "    'PROP':'PROPRIA',\n",
    "    'ALUG':'ALUGADA',\n",
    "    'OUTR':'OUTROS',\n",
    "    'pROP':'PROPRIA'\n",
    "})"
   ]
  },
  {
   "cell_type": "code",
   "execution_count": 67,
   "id": "b081ac11",
   "metadata": {},
   "outputs": [
    {
     "name": "stdout",
     "output_type": "stream",
     "text": [
      "RESID\n",
      "PROPRIA    2180\n",
      "ALUGADA     324\n",
      "OUTROS      188\n",
      "NaN         108\n",
      "Name: count, dtype: int64\n",
      "\n",
      "Total de registros na classe: 2800\n",
      "Total de registros na base: 2800\n"
     ]
    }
   ],
   "source": [
    "# Contagem de frequência para cada categoria da variável 'RESID'\n",
    "print(df_dirtyshop[\"RESID\"].value_counts(dropna=False))\n",
    "\n",
    "# maneira elegante de apresentar os resultados\n",
    "print(f\"\\nTotal de registros na classe: {df_dirtyshop['RESID'].value_counts(dropna=False).sum()}\")\n",
    "print(f\"Total de registros na base: {df_dirtyshop.shape[0]}\")"
   ]
  },
  {
   "cell_type": "code",
   "execution_count": 68,
   "id": "8286e9b1",
   "metadata": {},
   "outputs": [],
   "source": [
    "# fillna substitui valores NaN por String\n",
    "df_dirtyshop['RESID'].fillna('NAO INFORMADO',inplace=True)"
   ]
  },
  {
   "cell_type": "code",
   "execution_count": 69,
   "id": "0e4ec086",
   "metadata": {},
   "outputs": [
    {
     "name": "stdout",
     "output_type": "stream",
     "text": [
      "RESID\n",
      "PROPRIA          2180\n",
      "ALUGADA           324\n",
      "OUTROS            188\n",
      "NAO INFORMADO     108\n",
      "Name: count, dtype: int64\n"
     ]
    }
   ],
   "source": [
    "# Contagem de frequência para cada categoria da variável 'RESID'\n",
    "print(df_dirtyshop[\"RESID\"].value_counts(dropna=False))"
   ]
  },
  {
   "cell_type": "markdown",
   "id": "99c9be51",
   "metadata": {},
   "source": [
    "### Análise da variável ECIV:"
   ]
  },
  {
   "cell_type": "code",
   "execution_count": 70,
   "id": "6fc23be0",
   "metadata": {},
   "outputs": [
    {
     "name": "stdout",
     "output_type": "stream",
     "text": [
      "ECIV\n",
      "CAS       1758\n",
      "SOLT       657\n",
      "DIVORC     251\n",
      "VIUVO       87\n",
      "NI          40\n",
      "OUTROS       6\n",
      "CASAD        1\n",
      "Name: count, dtype: int64\n",
      "\n",
      "Total de registros na classe: 2800\n",
      "Total de registros na base: 2800\n"
     ]
    }
   ],
   "source": [
    "# Contagem de frequência para cada categoria da variável 'RESID'\n",
    "print(df_dirtyshop[\"ECIV\"].value_counts(dropna=False))\n",
    "\n",
    "# maneira elegante de apresentar os resultados\n",
    "print(f\"\\nTotal de registros na classe: {df_dirtyshop['ECIV'].value_counts(dropna=False).sum()}\")\n",
    "print(f\"Total de registros na base: {df_dirtyshop.shape[0]}\")"
   ]
  },
  {
   "cell_type": "code",
   "execution_count": 71,
   "id": "437d3da0",
   "metadata": {},
   "outputs": [],
   "source": [
    "# Corrigindo nomenclaturas de ECIV:\n",
    "df_dirtyshop['ECIV'] = df_dirtyshop['ECIV'].replace({'CAS':'CASADO','CASAD':'CASADO','DIVORC':'DIVORCIADO','SOLT':'SOLTEIRO', 'NI':'OUTROS'})"
   ]
  },
  {
   "cell_type": "code",
   "execution_count": 72,
   "id": "88e5c437",
   "metadata": {},
   "outputs": [
    {
     "name": "stdout",
     "output_type": "stream",
     "text": [
      "ECIV\n",
      "CASADO        1759\n",
      "SOLTEIRO       657\n",
      "DIVORCIADO     251\n",
      "VIUVO           87\n",
      "OUTROS          46\n",
      "Name: count, dtype: int64\n"
     ]
    }
   ],
   "source": [
    "# Contagem de frequência para cada categoria da variável 'ECIV'\n",
    "print(df_dirtyshop[\"ECIV\"].value_counts(dropna=False))"
   ]
  },
  {
   "cell_type": "markdown",
   "id": "e34f3487",
   "metadata": {},
   "source": [
    "### Análise a Variável INSTRU:"
   ]
  },
  {
   "cell_type": "code",
   "execution_count": 73,
   "id": "e0dfb7ee",
   "metadata": {},
   "outputs": [
    {
     "name": "stdout",
     "output_type": "stream",
     "text": [
      "INSTRU\n",
      "SUP     1252\n",
      "NaN      738\n",
      "SEC      670\n",
      "PRIM     140\n",
      "Name: count, dtype: int64\n",
      "\n",
      "Total de registros na classe: 2800\n",
      "Total de registros na base: 2800\n"
     ]
    }
   ],
   "source": [
    "# Contagem de frequência para cada categoria da variável 'INSTRU'\n",
    "print(df_dirtyshop[\"INSTRU\"].value_counts(dropna=False))\n",
    "\n",
    "# maneira elegante de apresentar os resultados\n",
    "print(f\"\\nTotal de registros na classe: {df_dirtyshop['INSTRU'].value_counts(dropna=False).sum()}\")\n",
    "print(f\"Total de registros na base: {df_dirtyshop.shape[0]}\")"
   ]
  },
  {
   "cell_type": "code",
   "execution_count": 74,
   "id": "d0f20887",
   "metadata": {},
   "outputs": [],
   "source": [
    "# substitui os valores da coluna 'INSTRU'\n",
    "df_dirtyshop[\"INSTRU\"] = df_dirtyshop[\"INSTRU\"].replace({\n",
    "    'SUP':'SUPERIOR',\n",
    "    'SEC':'ENSINO MEDIO',\n",
    "    'PRIM':'ENSINO FUNDAMENTAL',\n",
    "}).fillna(\"NAO INFORMADO\")"
   ]
  },
  {
   "cell_type": "code",
   "execution_count": 75,
   "id": "1072b1f0",
   "metadata": {},
   "outputs": [
    {
     "name": "stdout",
     "output_type": "stream",
     "text": [
      "INSTRU\n",
      "SUPERIOR              1252\n",
      "NAO INFORMADO          738\n",
      "ENSINO MEDIO           670\n",
      "ENSINO FUNDAMENTAL     140\n",
      "Name: count, dtype: int64\n"
     ]
    }
   ],
   "source": [
    "# Contagem de frequência para cada categoria da variável 'INSTRU'\n",
    "print(df_dirtyshop[\"INSTRU\"].value_counts(dropna=False))"
   ]
  },
  {
   "cell_type": "markdown",
   "id": "a9c49fe3",
   "metadata": {},
   "source": [
    "### Análise da Variável RST:"
   ]
  },
  {
   "cell_type": "code",
   "execution_count": 76,
   "id": "cbce54f9",
   "metadata": {},
   "outputs": [
    {
     "name": "stdout",
     "output_type": "stream",
     "text": [
      "RST\n",
      "sim    2467\n",
      "nao     331\n",
      "2         2\n",
      "Name: count, dtype: int64\n",
      "\n",
      "Total de registros na classe: 2800\n",
      "Total de registros na base: 2800\n"
     ]
    }
   ],
   "source": [
    "# Contagem de frequência para cada categoria da variável 'RST'\n",
    "print(df_dirtyshop[\"RST\"].value_counts(dropna=False))\n",
    "\n",
    "# maneira elegante de apresentar os resultados\n",
    "print(f\"\\nTotal de registros na classe: {df_dirtyshop['RST'].value_counts(dropna=False).sum()}\")\n",
    "print(f\"Total de registros na base: {df_dirtyshop.shape[0]}\")"
   ]
  },
  {
   "cell_type": "code",
   "execution_count": null,
   "id": "e542d6a3",
   "metadata": {},
   "outputs": [],
   "source": [
    "df_dirtyshop.loc[df_dirtyshop[\"RST\"] == 2, \"RST\"] = \"NAO INFORMADO\""
   ]
  },
  {
   "cell_type": "code",
   "execution_count": 81,
   "id": "2cd602a4",
   "metadata": {},
   "outputs": [
    {
     "data": {
      "text/html": [
       "<div>\n",
       "<style scoped>\n",
       "    .dataframe tbody tr th:only-of-type {\n",
       "        vertical-align: middle;\n",
       "    }\n",
       "\n",
       "    .dataframe tbody tr th {\n",
       "        vertical-align: top;\n",
       "    }\n",
       "\n",
       "    .dataframe thead th {\n",
       "        text-align: right;\n",
       "    }\n",
       "</style>\n",
       "<table border=\"1\" class=\"dataframe\">\n",
       "  <thead>\n",
       "    <tr style=\"text-align: right;\">\n",
       "      <th></th>\n",
       "      <th>CLIENTE</th>\n",
       "      <th>STATUS</th>\n",
       "      <th>IDADE</th>\n",
       "      <th>UNIFED</th>\n",
       "      <th>RESID</th>\n",
       "      <th>TMPRSD</th>\n",
       "      <th>FONE</th>\n",
       "      <th>ECIV</th>\n",
       "      <th>INSTRU</th>\n",
       "      <th>RNDTOT</th>\n",
       "      <th>RST</th>\n",
       "    </tr>\n",
       "  </thead>\n",
       "  <tbody>\n",
       "    <tr>\n",
       "      <th>0</th>\n",
       "      <td>CLI_0001</td>\n",
       "      <td>MAU</td>\n",
       "      <td>44.0</td>\n",
       "      <td>MG</td>\n",
       "      <td>PROPRIA</td>\n",
       "      <td>5.0</td>\n",
       "      <td>1</td>\n",
       "      <td>CASADO</td>\n",
       "      <td>ENSINO MEDIO</td>\n",
       "      <td>6040</td>\n",
       "      <td>SIM</td>\n",
       "    </tr>\n",
       "    <tr>\n",
       "      <th>1</th>\n",
       "      <td>CLI_0002</td>\n",
       "      <td>BOM</td>\n",
       "      <td>46.0</td>\n",
       "      <td>MG</td>\n",
       "      <td>ALUGADA</td>\n",
       "      <td>12.0</td>\n",
       "      <td>1</td>\n",
       "      <td>CASADO</td>\n",
       "      <td>SUPERIOR</td>\n",
       "      <td>6986</td>\n",
       "      <td>SIM</td>\n",
       "    </tr>\n",
       "    <tr>\n",
       "      <th>2</th>\n",
       "      <td>CLI_0003</td>\n",
       "      <td>BOM</td>\n",
       "      <td>56.0</td>\n",
       "      <td>MG</td>\n",
       "      <td>PROPRIA</td>\n",
       "      <td>12.0</td>\n",
       "      <td>1</td>\n",
       "      <td>CASADO</td>\n",
       "      <td>SUPERIOR</td>\n",
       "      <td>8797</td>\n",
       "      <td>SIM</td>\n",
       "    </tr>\n",
       "    <tr>\n",
       "      <th>3</th>\n",
       "      <td>CLI_0004</td>\n",
       "      <td>BOM</td>\n",
       "      <td>31.0</td>\n",
       "      <td>RJ</td>\n",
       "      <td>ALUGADA</td>\n",
       "      <td>4.0</td>\n",
       "      <td>1</td>\n",
       "      <td>CASADO</td>\n",
       "      <td>ENSINO MEDIO</td>\n",
       "      <td>4968</td>\n",
       "      <td>SIM</td>\n",
       "    </tr>\n",
       "    <tr>\n",
       "      <th>4</th>\n",
       "      <td>CLI_0005</td>\n",
       "      <td>BOM</td>\n",
       "      <td>46.0</td>\n",
       "      <td>RJ</td>\n",
       "      <td>PROPRIA</td>\n",
       "      <td>8.0</td>\n",
       "      <td>1</td>\n",
       "      <td>CASADO</td>\n",
       "      <td>NAO INFORMADO</td>\n",
       "      <td>7430</td>\n",
       "      <td>SIM</td>\n",
       "    </tr>\n",
       "  </tbody>\n",
       "</table>\n",
       "</div>"
      ],
      "text/plain": [
       "    CLIENTE STATUS  IDADE UNIFED    RESID  TMPRSD  FONE    ECIV  \\\n",
       "0  CLI_0001    MAU   44.0     MG  PROPRIA     5.0     1  CASADO   \n",
       "1  CLI_0002    BOM   46.0     MG  ALUGADA    12.0     1  CASADO   \n",
       "2  CLI_0003    BOM   56.0     MG  PROPRIA    12.0     1  CASADO   \n",
       "3  CLI_0004    BOM   31.0     RJ  ALUGADA     4.0     1  CASADO   \n",
       "4  CLI_0005    BOM   46.0     RJ  PROPRIA     8.0     1  CASADO   \n",
       "\n",
       "          INSTRU  RNDTOT  RST  \n",
       "0   ENSINO MEDIO    6040  SIM  \n",
       "1       SUPERIOR    6986  SIM  \n",
       "2       SUPERIOR    8797  SIM  \n",
       "3   ENSINO MEDIO    4968  SIM  \n",
       "4  NAO INFORMADO    7430  SIM  "
      ]
     },
     "execution_count": 81,
     "metadata": {},
     "output_type": "execute_result"
    }
   ],
   "source": [
    "df_dirtyshop['RST'] = df_dirtyshop[\"RST\"].str.upper()\n",
    "\n",
    "df_dirtyshop.head()"
   ]
  },
  {
   "cell_type": "markdown",
   "id": "54528c07",
   "metadata": {},
   "source": [
    "## Análise das variáveis numéricas ou quantitativas"
   ]
  },
  {
   "cell_type": "markdown",
   "id": "a25640d1",
   "metadata": {},
   "source": [
    "### Análise da variável IDADE:"
   ]
  },
  {
   "cell_type": "code",
   "execution_count": 82,
   "id": "f2697e5f",
   "metadata": {},
   "outputs": [
    {
     "name": "stdout",
     "output_type": "stream",
     "text": [
      "Variáveis Quantitativas: ['IDADE', 'TMPRSD', 'FONE', 'RNDTOT']\n"
     ]
    }
   ],
   "source": [
    "print(f\"Variáveis Quantitativas: {variaveis_quantitativas}\")"
   ]
  },
  {
   "cell_type": "code",
   "execution_count": 83,
   "id": "1eab644b",
   "metadata": {},
   "outputs": [
    {
     "data": {
      "text/html": [
       "<div>\n",
       "<style scoped>\n",
       "    .dataframe tbody tr th:only-of-type {\n",
       "        vertical-align: middle;\n",
       "    }\n",
       "\n",
       "    .dataframe tbody tr th {\n",
       "        vertical-align: top;\n",
       "    }\n",
       "\n",
       "    .dataframe thead th {\n",
       "        text-align: right;\n",
       "    }\n",
       "</style>\n",
       "<table border=\"1\" class=\"dataframe\">\n",
       "  <thead>\n",
       "    <tr style=\"text-align: right;\">\n",
       "      <th></th>\n",
       "      <th>IDADE</th>\n",
       "      <th>TMPRSD</th>\n",
       "      <th>FONE</th>\n",
       "      <th>RNDTOT</th>\n",
       "    </tr>\n",
       "  </thead>\n",
       "  <tbody>\n",
       "    <tr>\n",
       "      <th>count</th>\n",
       "      <td>2797.000000</td>\n",
       "      <td>2795.000000</td>\n",
       "      <td>2800.000000</td>\n",
       "      <td>2800.000000</td>\n",
       "    </tr>\n",
       "    <tr>\n",
       "      <th>mean</th>\n",
       "      <td>42.402574</td>\n",
       "      <td>11.693739</td>\n",
       "      <td>0.929286</td>\n",
       "      <td>6645.136071</td>\n",
       "    </tr>\n",
       "    <tr>\n",
       "      <th>std</th>\n",
       "      <td>14.196867</td>\n",
       "      <td>9.026007</td>\n",
       "      <td>0.280355</td>\n",
       "      <td>1545.728336</td>\n",
       "    </tr>\n",
       "    <tr>\n",
       "      <th>min</th>\n",
       "      <td>0.000000</td>\n",
       "      <td>0.000000</td>\n",
       "      <td>0.000000</td>\n",
       "      <td>2239.000000</td>\n",
       "    </tr>\n",
       "    <tr>\n",
       "      <th>25%</th>\n",
       "      <td>31.000000</td>\n",
       "      <td>5.000000</td>\n",
       "      <td>1.000000</td>\n",
       "      <td>5478.750000</td>\n",
       "    </tr>\n",
       "    <tr>\n",
       "      <th>50%</th>\n",
       "      <td>40.000000</td>\n",
       "      <td>10.000000</td>\n",
       "      <td>1.000000</td>\n",
       "      <td>6500.500000</td>\n",
       "    </tr>\n",
       "    <tr>\n",
       "      <th>75%</th>\n",
       "      <td>53.000000</td>\n",
       "      <td>16.000000</td>\n",
       "      <td>1.000000</td>\n",
       "      <td>7681.000000</td>\n",
       "    </tr>\n",
       "    <tr>\n",
       "      <th>max</th>\n",
       "      <td>89.000000</td>\n",
       "      <td>57.000000</td>\n",
       "      <td>2.000000</td>\n",
       "      <td>23258.000000</td>\n",
       "    </tr>\n",
       "  </tbody>\n",
       "</table>\n",
       "</div>"
      ],
      "text/plain": [
       "             IDADE       TMPRSD         FONE        RNDTOT\n",
       "count  2797.000000  2795.000000  2800.000000   2800.000000\n",
       "mean     42.402574    11.693739     0.929286   6645.136071\n",
       "std      14.196867     9.026007     0.280355   1545.728336\n",
       "min       0.000000     0.000000     0.000000   2239.000000\n",
       "25%      31.000000     5.000000     1.000000   5478.750000\n",
       "50%      40.000000    10.000000     1.000000   6500.500000\n",
       "75%      53.000000    16.000000     1.000000   7681.000000\n",
       "max      89.000000    57.000000     2.000000  23258.000000"
      ]
     },
     "execution_count": 83,
     "metadata": {},
     "output_type": "execute_result"
    }
   ],
   "source": [
    "df_dirtyshop.describe()"
   ]
  },
  {
   "cell_type": "code",
   "execution_count": 85,
   "id": "18fa972f",
   "metadata": {},
   "outputs": [
    {
     "data": {
      "image/png": "[encoded data removed]",
      "text/plain": [
       "<Figure size 700x400 with 1 Axes>"
      ]
     },
     "metadata": {},
     "output_type": "display_data"
    }
   ],
   "source": [
    "# histograma\n",
    "fig = plt.figure(figsize=(7,4))\n",
    "sns.histplot(data=df_dirtyshop, x=\"IDADE\", bins=10, kde=True)\n",
    "\n",
    "plt.title(\"Histograma com 20 classes\")\n",
    "plt.xlabel(\"Idade\")\n",
    "plt.ylabel(\"Frequência\")\n",
    "plt.show()"
   ]
  },
  {
   "cell_type": "code",
   "execution_count": 86,
   "id": "dfe92c29",
   "metadata": {},
   "outputs": [
    {
     "data": {
      "image/png": "[encoded data removed]",
      "text/plain": [
       "<Figure size 700x400 with 1 Axes>"
      ]
     },
     "metadata": {},
     "output_type": "display_data"
    }
   ],
   "source": [
    "# boxplot\n",
    "fig = plt.figure(figsize=(7,4))\n",
    "sns.boxplot(data=df_dirtyshop, y=\"IDADE\")\n",
    "plt.title(\"Box-plot da renda total\")\n",
    "plt.show()"
   ]
  },
  {
   "cell_type": "code",
   "execution_count": 87,
   "id": "d4ac5486",
   "metadata": {},
   "outputs": [
    {
     "data": {
      "text/html": [
       "<div>\n",
       "<style scoped>\n",
       "    .dataframe tbody tr th:only-of-type {\n",
       "        vertical-align: middle;\n",
       "    }\n",
       "\n",
       "    .dataframe tbody tr th {\n",
       "        vertical-align: top;\n",
       "    }\n",
       "\n",
       "    .dataframe thead th {\n",
       "        text-align: right;\n",
       "    }\n",
       "</style>\n",
       "<table border=\"1\" class=\"dataframe\">\n",
       "  <thead>\n",
       "    <tr style=\"text-align: right;\">\n",
       "      <th></th>\n",
       "      <th>CLIENTE</th>\n",
       "      <th>STATUS</th>\n",
       "      <th>IDADE</th>\n",
       "      <th>UNIFED</th>\n",
       "      <th>RESID</th>\n",
       "      <th>TMPRSD</th>\n",
       "      <th>FONE</th>\n",
       "      <th>ECIV</th>\n",
       "      <th>INSTRU</th>\n",
       "      <th>RNDTOT</th>\n",
       "      <th>RST</th>\n",
       "    </tr>\n",
       "  </thead>\n",
       "  <tbody>\n",
       "    <tr>\n",
       "      <th>642</th>\n",
       "      <td>CLI_0643</td>\n",
       "      <td>MAU</td>\n",
       "      <td>18.0</td>\n",
       "      <td>SC</td>\n",
       "      <td>PROPRIA</td>\n",
       "      <td>8.0</td>\n",
       "      <td>1</td>\n",
       "      <td>SOLTEIRO</td>\n",
       "      <td>NAO INFORMADO</td>\n",
       "      <td>4766</td>\n",
       "      <td>SIM</td>\n",
       "    </tr>\n",
       "    <tr>\n",
       "      <th>922</th>\n",
       "      <td>CLI_0923</td>\n",
       "      <td>BOM</td>\n",
       "      <td>18.0</td>\n",
       "      <td>SC</td>\n",
       "      <td>OUTROS</td>\n",
       "      <td>12.0</td>\n",
       "      <td>0</td>\n",
       "      <td>SOLTEIRO</td>\n",
       "      <td>ENSINO MEDIO</td>\n",
       "      <td>4003</td>\n",
       "      <td>SIM</td>\n",
       "    </tr>\n",
       "    <tr>\n",
       "      <th>1090</th>\n",
       "      <td>CLI_1091</td>\n",
       "      <td>MAU</td>\n",
       "      <td>18.0</td>\n",
       "      <td>SC</td>\n",
       "      <td>PROPRIA</td>\n",
       "      <td>8.0</td>\n",
       "      <td>1</td>\n",
       "      <td>SOLTEIRO</td>\n",
       "      <td>NAO INFORMADO</td>\n",
       "      <td>3869</td>\n",
       "      <td>SIM</td>\n",
       "    </tr>\n",
       "    <tr>\n",
       "      <th>1219</th>\n",
       "      <td>CLI_1220</td>\n",
       "      <td>BOM</td>\n",
       "      <td>18.0</td>\n",
       "      <td>SC</td>\n",
       "      <td>OUTROS</td>\n",
       "      <td>12.0</td>\n",
       "      <td>0</td>\n",
       "      <td>SOLTEIRO</td>\n",
       "      <td>ENSINO MEDIO</td>\n",
       "      <td>3334</td>\n",
       "      <td>SIM</td>\n",
       "    </tr>\n",
       "    <tr>\n",
       "      <th>1466</th>\n",
       "      <td>CLI_1467</td>\n",
       "      <td>BOM</td>\n",
       "      <td>18.0</td>\n",
       "      <td>RJ</td>\n",
       "      <td>NAO INFORMADO</td>\n",
       "      <td>13.0</td>\n",
       "      <td>0</td>\n",
       "      <td>OUTROS</td>\n",
       "      <td>NAO INFORMADO</td>\n",
       "      <td>3439</td>\n",
       "      <td>SIM</td>\n",
       "    </tr>\n",
       "    <tr>\n",
       "      <th>1495</th>\n",
       "      <td>CLI_1496</td>\n",
       "      <td>BOM</td>\n",
       "      <td>18.0</td>\n",
       "      <td>RJ</td>\n",
       "      <td>NAO INFORMADO</td>\n",
       "      <td>13.0</td>\n",
       "      <td>0</td>\n",
       "      <td>OUTROS</td>\n",
       "      <td>NAO INFORMADO</td>\n",
       "      <td>4521</td>\n",
       "      <td>SIM</td>\n",
       "    </tr>\n",
       "    <tr>\n",
       "      <th>1573</th>\n",
       "      <td>CLI_1574</td>\n",
       "      <td>BOM</td>\n",
       "      <td>18.0</td>\n",
       "      <td>RJ</td>\n",
       "      <td>PROPRIA</td>\n",
       "      <td>18.0</td>\n",
       "      <td>1</td>\n",
       "      <td>SOLTEIRO</td>\n",
       "      <td>ENSINO MEDIO</td>\n",
       "      <td>4489</td>\n",
       "      <td>SIM</td>\n",
       "    </tr>\n",
       "    <tr>\n",
       "      <th>1888</th>\n",
       "      <td>CLI_1889</td>\n",
       "      <td>BOM</td>\n",
       "      <td>18.0</td>\n",
       "      <td>SP</td>\n",
       "      <td>PROPRIA</td>\n",
       "      <td>8.0</td>\n",
       "      <td>1</td>\n",
       "      <td>SOLTEIRO</td>\n",
       "      <td>SUPERIOR</td>\n",
       "      <td>3969</td>\n",
       "      <td>SIM</td>\n",
       "    </tr>\n",
       "    <tr>\n",
       "      <th>2248</th>\n",
       "      <td>CLI_2249</td>\n",
       "      <td>BOM</td>\n",
       "      <td>18.0</td>\n",
       "      <td>RJ</td>\n",
       "      <td>PROPRIA</td>\n",
       "      <td>18.0</td>\n",
       "      <td>1</td>\n",
       "      <td>SOLTEIRO</td>\n",
       "      <td>ENSINO MEDIO</td>\n",
       "      <td>4060</td>\n",
       "      <td>SIM</td>\n",
       "    </tr>\n",
       "    <tr>\n",
       "      <th>2364</th>\n",
       "      <td>CLI_2365</td>\n",
       "      <td>MAU</td>\n",
       "      <td>0.0</td>\n",
       "      <td>MG</td>\n",
       "      <td>PROPRIA</td>\n",
       "      <td>4.0</td>\n",
       "      <td>1</td>\n",
       "      <td>DIVORCIADO</td>\n",
       "      <td>ENSINO MEDIO</td>\n",
       "      <td>2239</td>\n",
       "      <td>SIM</td>\n",
       "    </tr>\n",
       "  </tbody>\n",
       "</table>\n",
       "</div>"
      ],
      "text/plain": [
       "       CLIENTE STATUS  IDADE UNIFED          RESID  TMPRSD  FONE        ECIV  \\\n",
       "642   CLI_0643    MAU   18.0     SC        PROPRIA     8.0     1    SOLTEIRO   \n",
       "922   CLI_0923    BOM   18.0     SC         OUTROS    12.0     0    SOLTEIRO   \n",
       "1090  CLI_1091    MAU   18.0     SC        PROPRIA     8.0     1    SOLTEIRO   \n",
       "1219  CLI_1220    BOM   18.0     SC         OUTROS    12.0     0    SOLTEIRO   \n",
       "1466  CLI_1467    BOM   18.0     RJ  NAO INFORMADO    13.0     0      OUTROS   \n",
       "1495  CLI_1496    BOM   18.0     RJ  NAO INFORMADO    13.0     0      OUTROS   \n",
       "1573  CLI_1574    BOM   18.0     RJ        PROPRIA    18.0     1    SOLTEIRO   \n",
       "1888  CLI_1889    BOM   18.0     SP        PROPRIA     8.0     1    SOLTEIRO   \n",
       "2248  CLI_2249    BOM   18.0     RJ        PROPRIA    18.0     1    SOLTEIRO   \n",
       "2364  CLI_2365    MAU    0.0     MG        PROPRIA     4.0     1  DIVORCIADO   \n",
       "\n",
       "             INSTRU  RNDTOT  RST  \n",
       "642   NAO INFORMADO    4766  SIM  \n",
       "922    ENSINO MEDIO    4003  SIM  \n",
       "1090  NAO INFORMADO    3869  SIM  \n",
       "1219   ENSINO MEDIO    3334  SIM  \n",
       "1466  NAO INFORMADO    3439  SIM  \n",
       "1495  NAO INFORMADO    4521  SIM  \n",
       "1573   ENSINO MEDIO    4489  SIM  \n",
       "1888       SUPERIOR    3969  SIM  \n",
       "2248   ENSINO MEDIO    4060  SIM  \n",
       "2364   ENSINO MEDIO    2239  SIM  "
      ]
     },
     "execution_count": 87,
     "metadata": {},
     "output_type": "execute_result"
    }
   ],
   "source": [
    "# inputação de valores para os registros com idade menor que 18 (usar a média das idades)\n",
    "df_dirtyshop[df_dirtyshop[\"IDADE\"] < 19]"
   ]
  },
  {
   "cell_type": "code",
   "execution_count": 88,
   "id": "e9383a1d",
   "metadata": {},
   "outputs": [
    {
     "name": "stdout",
     "output_type": "stream",
     "text": [
      "Idade média: 42.40257418662853\n"
     ]
    }
   ],
   "source": [
    "# inputação de valores para os registros com idade menor que 18 (usar a média das idades)\n",
    "idade_media = df_dirtyshop[\"IDADE\"].mean()\n",
    "print(f\"Idade média: {idade_media}\")"
   ]
  },
  {
   "cell_type": "code",
   "execution_count": 94,
   "id": "3387ddfa",
   "metadata": {},
   "outputs": [
    {
     "data": {
      "text/html": [
       "<div>\n",
       "<style scoped>\n",
       "    .dataframe tbody tr th:only-of-type {\n",
       "        vertical-align: middle;\n",
       "    }\n",
       "\n",
       "    .dataframe tbody tr th {\n",
       "        vertical-align: top;\n",
       "    }\n",
       "\n",
       "    .dataframe thead th {\n",
       "        text-align: right;\n",
       "    }\n",
       "</style>\n",
       "<table border=\"1\" class=\"dataframe\">\n",
       "  <thead>\n",
       "    <tr style=\"text-align: right;\">\n",
       "      <th></th>\n",
       "      <th>RESID</th>\n",
       "      <th>ECIV</th>\n",
       "      <th>IDADE</th>\n",
       "    </tr>\n",
       "  </thead>\n",
       "  <tbody>\n",
       "    <tr>\n",
       "      <th>0</th>\n",
       "      <td>ALUGADA</td>\n",
       "      <td>CASADO</td>\n",
       "      <td>37.835165</td>\n",
       "    </tr>\n",
       "    <tr>\n",
       "      <th>1</th>\n",
       "      <td>ALUGADA</td>\n",
       "      <td>DIVORCIADO</td>\n",
       "      <td>40.840000</td>\n",
       "    </tr>\n",
       "    <tr>\n",
       "      <th>2</th>\n",
       "      <td>ALUGADA</td>\n",
       "      <td>OUTROS</td>\n",
       "      <td>37.000000</td>\n",
       "    </tr>\n",
       "    <tr>\n",
       "      <th>3</th>\n",
       "      <td>ALUGADA</td>\n",
       "      <td>SOLTEIRO</td>\n",
       "      <td>32.902439</td>\n",
       "    </tr>\n",
       "    <tr>\n",
       "      <th>4</th>\n",
       "      <td>ALUGADA</td>\n",
       "      <td>VIUVO</td>\n",
       "      <td>53.750000</td>\n",
       "    </tr>\n",
       "    <tr>\n",
       "      <th>5</th>\n",
       "      <td>NAO INFORMADO</td>\n",
       "      <td>CASADO</td>\n",
       "      <td>45.250000</td>\n",
       "    </tr>\n",
       "    <tr>\n",
       "      <th>6</th>\n",
       "      <td>NAO INFORMADO</td>\n",
       "      <td>DIVORCIADO</td>\n",
       "      <td>43.400000</td>\n",
       "    </tr>\n",
       "    <tr>\n",
       "      <th>7</th>\n",
       "      <td>NAO INFORMADO</td>\n",
       "      <td>OUTROS</td>\n",
       "      <td>35.000000</td>\n",
       "    </tr>\n",
       "    <tr>\n",
       "      <th>8</th>\n",
       "      <td>NAO INFORMADO</td>\n",
       "      <td>SOLTEIRO</td>\n",
       "      <td>28.133333</td>\n",
       "    </tr>\n",
       "    <tr>\n",
       "      <th>9</th>\n",
       "      <td>NAO INFORMADO</td>\n",
       "      <td>VIUVO</td>\n",
       "      <td>71.000000</td>\n",
       "    </tr>\n",
       "    <tr>\n",
       "      <th>10</th>\n",
       "      <td>OUTROS</td>\n",
       "      <td>CASADO</td>\n",
       "      <td>41.011628</td>\n",
       "    </tr>\n",
       "    <tr>\n",
       "      <th>11</th>\n",
       "      <td>OUTROS</td>\n",
       "      <td>DIVORCIADO</td>\n",
       "      <td>44.052632</td>\n",
       "    </tr>\n",
       "    <tr>\n",
       "      <th>12</th>\n",
       "      <td>OUTROS</td>\n",
       "      <td>OUTROS</td>\n",
       "      <td>51.000000</td>\n",
       "    </tr>\n",
       "    <tr>\n",
       "      <th>13</th>\n",
       "      <td>OUTROS</td>\n",
       "      <td>SOLTEIRO</td>\n",
       "      <td>26.824324</td>\n",
       "    </tr>\n",
       "    <tr>\n",
       "      <th>14</th>\n",
       "      <td>OUTROS</td>\n",
       "      <td>VIUVO</td>\n",
       "      <td>47.285714</td>\n",
       "    </tr>\n",
       "    <tr>\n",
       "      <th>15</th>\n",
       "      <td>PROPRIA</td>\n",
       "      <td>CASADO</td>\n",
       "      <td>46.596528</td>\n",
       "    </tr>\n",
       "    <tr>\n",
       "      <th>16</th>\n",
       "      <td>PROPRIA</td>\n",
       "      <td>DIVORCIADO</td>\n",
       "      <td>47.208931</td>\n",
       "    </tr>\n",
       "    <tr>\n",
       "      <th>17</th>\n",
       "      <td>PROPRIA</td>\n",
       "      <td>OUTROS</td>\n",
       "      <td>40.333333</td>\n",
       "    </tr>\n",
       "    <tr>\n",
       "      <th>18</th>\n",
       "      <td>PROPRIA</td>\n",
       "      <td>SOLTEIRO</td>\n",
       "      <td>31.418259</td>\n",
       "    </tr>\n",
       "    <tr>\n",
       "      <th>19</th>\n",
       "      <td>PROPRIA</td>\n",
       "      <td>VIUVO</td>\n",
       "      <td>63.593750</td>\n",
       "    </tr>\n",
       "  </tbody>\n",
       "</table>\n",
       "</div>"
      ],
      "text/plain": [
       "            RESID        ECIV      IDADE\n",
       "0         ALUGADA      CASADO  37.835165\n",
       "1         ALUGADA  DIVORCIADO  40.840000\n",
       "2         ALUGADA      OUTROS  37.000000\n",
       "3         ALUGADA    SOLTEIRO  32.902439\n",
       "4         ALUGADA       VIUVO  53.750000\n",
       "5   NAO INFORMADO      CASADO  45.250000\n",
       "6   NAO INFORMADO  DIVORCIADO  43.400000\n",
       "7   NAO INFORMADO      OUTROS  35.000000\n",
       "8   NAO INFORMADO    SOLTEIRO  28.133333\n",
       "9   NAO INFORMADO       VIUVO  71.000000\n",
       "10         OUTROS      CASADO  41.011628\n",
       "11         OUTROS  DIVORCIADO  44.052632\n",
       "12         OUTROS      OUTROS  51.000000\n",
       "13         OUTROS    SOLTEIRO  26.824324\n",
       "14         OUTROS       VIUVO  47.285714\n",
       "15        PROPRIA      CASADO  46.596528\n",
       "16        PROPRIA  DIVORCIADO  47.208931\n",
       "17        PROPRIA      OUTROS  40.333333\n",
       "18        PROPRIA    SOLTEIRO  31.418259\n",
       "19        PROPRIA       VIUVO  63.593750"
      ]
     },
     "execution_count": 94,
     "metadata": {},
     "output_type": "execute_result"
    }
   ],
   "source": [
    "df_dirtyshop.groupby(['RESID', \"ECIV\"])['IDADE'].mean().reset_index()"
   ]
  },
  {
   "cell_type": "code",
   "execution_count": 92,
   "id": "933affc2",
   "metadata": {},
   "outputs": [
    {
     "name": "stdout",
     "output_type": "stream",
     "text": [
      "IDade média: 46.93604651162791\n"
     ]
    }
   ],
   "source": [
    "df_selecionado = df_dirtyshop[(df_dirtyshop[\"RESID\"] == \"PROPRIA\") & (df_dirtyshop[\"ECIV\"] == \"DIVORCIADO\")]\n",
    "idade_media = df_selecionado[\"IDADE\"].mean()\n",
    "print(f\"IDade média: {idade_media}\")"
   ]
  },
  {
   "cell_type": "code",
   "execution_count": 93,
   "id": "60fde982",
   "metadata": {},
   "outputs": [],
   "source": [
    "# atualizando a idade dos clientes com menos de 18 anos para idade média\n",
    "df_dirtyshop.loc[df_dirtyshop[\"IDADE\"] < 18, \"IDADE\" ] = idade_media"
   ]
  },
  {
   "cell_type": "code",
   "execution_count": 99,
   "id": "d0983a57",
   "metadata": {},
   "outputs": [
    {
     "data": {
      "text/html": [
       "<div>\n",
       "<style scoped>\n",
       "    .dataframe tbody tr th:only-of-type {\n",
       "        vertical-align: middle;\n",
       "    }\n",
       "\n",
       "    .dataframe tbody tr th {\n",
       "        vertical-align: top;\n",
       "    }\n",
       "\n",
       "    .dataframe thead th {\n",
       "        text-align: right;\n",
       "    }\n",
       "</style>\n",
       "<table border=\"1\" class=\"dataframe\">\n",
       "  <thead>\n",
       "    <tr style=\"text-align: right;\">\n",
       "      <th></th>\n",
       "      <th>CLIENTE</th>\n",
       "      <th>STATUS</th>\n",
       "      <th>IDADE</th>\n",
       "      <th>UNIFED</th>\n",
       "      <th>RESID</th>\n",
       "      <th>TMPRSD</th>\n",
       "      <th>FONE</th>\n",
       "      <th>ECIV</th>\n",
       "      <th>INSTRU</th>\n",
       "      <th>RNDTOT</th>\n",
       "      <th>RST</th>\n",
       "    </tr>\n",
       "  </thead>\n",
       "  <tbody>\n",
       "    <tr>\n",
       "      <th>2234</th>\n",
       "      <td>CLI_2235</td>\n",
       "      <td>MAU</td>\n",
       "      <td>NaN</td>\n",
       "      <td>MG</td>\n",
       "      <td>PROPRIA</td>\n",
       "      <td>7.0</td>\n",
       "      <td>1</td>\n",
       "      <td>CASADO</td>\n",
       "      <td>NAO INFORMADO</td>\n",
       "      <td>5792</td>\n",
       "      <td>SIM</td>\n",
       "    </tr>\n",
       "    <tr>\n",
       "      <th>2423</th>\n",
       "      <td>CLI_2424</td>\n",
       "      <td>BOM</td>\n",
       "      <td>NaN</td>\n",
       "      <td>MG</td>\n",
       "      <td>PROPRIA</td>\n",
       "      <td>16.0</td>\n",
       "      <td>1</td>\n",
       "      <td>CASADO</td>\n",
       "      <td>SUPERIOR</td>\n",
       "      <td>9509</td>\n",
       "      <td>SIM</td>\n",
       "    </tr>\n",
       "    <tr>\n",
       "      <th>2712</th>\n",
       "      <td>CLI_2713</td>\n",
       "      <td>BOM</td>\n",
       "      <td>NaN</td>\n",
       "      <td>MG</td>\n",
       "      <td>PROPRIA</td>\n",
       "      <td>3.0</td>\n",
       "      <td>1</td>\n",
       "      <td>CASADO</td>\n",
       "      <td>ENSINO FUNDAMENTAL</td>\n",
       "      <td>7045</td>\n",
       "      <td>SIM</td>\n",
       "    </tr>\n",
       "  </tbody>\n",
       "</table>\n",
       "</div>"
      ],
      "text/plain": [
       "       CLIENTE STATUS  IDADE UNIFED    RESID  TMPRSD  FONE    ECIV  \\\n",
       "2234  CLI_2235    MAU    NaN     MG  PROPRIA     7.0     1  CASADO   \n",
       "2423  CLI_2424    BOM    NaN     MG  PROPRIA    16.0     1  CASADO   \n",
       "2712  CLI_2713    BOM    NaN     MG  PROPRIA     3.0     1  CASADO   \n",
       "\n",
       "                  INSTRU  RNDTOT  RST  \n",
       "2234       NAO INFORMADO    5792  SIM  \n",
       "2423            SUPERIOR    9509  SIM  \n",
       "2712  ENSINO FUNDAMENTAL    7045  SIM  "
      ]
     },
     "execution_count": 99,
     "metadata": {},
     "output_type": "execute_result"
    }
   ],
   "source": [
    "df_dirtyshop[df_dirtyshop[\"IDADE\"].isnull()]"
   ]
  },
  {
   "cell_type": "code",
   "execution_count": 100,
   "id": "78476c3f",
   "metadata": {},
   "outputs": [
    {
     "name": "stdout",
     "output_type": "stream",
     "text": [
      "IDade média: 46.59652777777778\n"
     ]
    }
   ],
   "source": [
    "df_selecionado_nan = df_dirtyshop[(df_dirtyshop[\"RESID\"] == \"PROPRIA\") & (df_dirtyshop[\"ECIV\"] == \"CASADO\")]\n",
    "idade_media_nan = df_selecionado_nan[\"IDADE\"].mean()\n",
    "\n",
    "print(f\"IDade média: {idade_media_nan}\")"
   ]
  },
  {
   "cell_type": "code",
   "execution_count": 101,
   "id": "bd4f1324",
   "metadata": {},
   "outputs": [],
   "source": [
    "df_dirtyshop['IDADE'].fillna(idade_media_nan,inplace=True)"
   ]
  },
  {
   "cell_type": "code",
   "execution_count": 102,
   "id": "b31afbb7",
   "metadata": {},
   "outputs": [
    {
     "data": {
      "text/html": [
       "<div>\n",
       "<style scoped>\n",
       "    .dataframe tbody tr th:only-of-type {\n",
       "        vertical-align: middle;\n",
       "    }\n",
       "\n",
       "    .dataframe tbody tr th {\n",
       "        vertical-align: top;\n",
       "    }\n",
       "\n",
       "    .dataframe thead th {\n",
       "        text-align: right;\n",
       "    }\n",
       "</style>\n",
       "<table border=\"1\" class=\"dataframe\">\n",
       "  <thead>\n",
       "    <tr style=\"text-align: right;\">\n",
       "      <th></th>\n",
       "      <th>CLIENTE</th>\n",
       "      <th>STATUS</th>\n",
       "      <th>IDADE</th>\n",
       "      <th>UNIFED</th>\n",
       "      <th>RESID</th>\n",
       "      <th>TMPRSD</th>\n",
       "      <th>FONE</th>\n",
       "      <th>ECIV</th>\n",
       "      <th>INSTRU</th>\n",
       "      <th>RNDTOT</th>\n",
       "      <th>RST</th>\n",
       "    </tr>\n",
       "  </thead>\n",
       "  <tbody>\n",
       "  </tbody>\n",
       "</table>\n",
       "</div>"
      ],
      "text/plain": [
       "Empty DataFrame\n",
       "Columns: [CLIENTE, STATUS, IDADE, UNIFED, RESID, TMPRSD, FONE, ECIV, INSTRU, RNDTOT, RST]\n",
       "Index: []"
      ]
     },
     "execution_count": 102,
     "metadata": {},
     "output_type": "execute_result"
    }
   ],
   "source": [
    "df_dirtyshop[df_dirtyshop[\"IDADE\"].isnull()]"
   ]
  },
  {
   "cell_type": "code",
   "execution_count": 103,
   "id": "09ecd5a8",
   "metadata": {},
   "outputs": [
    {
     "data": {
      "text/plain": [
       "CLIENTE    0\n",
       "STATUS     0\n",
       "IDADE      0\n",
       "UNIFED     0\n",
       "RESID      0\n",
       "TMPRSD     5\n",
       "FONE       0\n",
       "ECIV       0\n",
       "INSTRU     0\n",
       "RNDTOT     0\n",
       "RST        0\n",
       "dtype: int64"
      ]
     },
     "execution_count": 103,
     "metadata": {},
     "output_type": "execute_result"
    }
   ],
   "source": [
    "df_dirtyshop.isnull().sum()"
   ]
  },
  {
   "cell_type": "code",
   "execution_count": 104,
   "id": "76a166cf",
   "metadata": {},
   "outputs": [
    {
     "data": {
      "image/png": "[encoded data removed]",
      "text/plain": [
       "<Figure size 700x400 with 1 Axes>"
      ]
     },
     "metadata": {},
     "output_type": "display_data"
    }
   ],
   "source": [
    "# boxplot\n",
    "fig = plt.figure(figsize=(7,4))\n",
    "sns.boxplot(data=df_dirtyshop, y=\"IDADE\")\n",
    "plt.title(\"Box-plot da renda total\")\n",
    "plt.show()"
   ]
  },
  {
   "cell_type": "code",
   "execution_count": 105,
   "id": "e9672266",
   "metadata": {},
   "outputs": [
    {
     "data": {
      "image/png": "[encoded data removed]",
      "text/plain": [
       "<Figure size 1200x400 with 2 Axes>"
      ]
     },
     "metadata": {},
     "output_type": "display_data"
    }
   ],
   "source": [
    "# 1. Criar a figura e os eixos (subplots)\n",
    "# plt.subplots(nrows=1, ncols=2, ...) cria uma grade com 1 linha e 2 colunas.\n",
    "# Isso retorna a figura inteira (fig) e um array com os eixos (axes).\n",
    "# axes[0] será o primeiro gráfico (esquerda) e axes[1] o segundo (direita).\n",
    "fig, axes = plt.subplots(nrows=1, ncols=2, figsize=(12, 4)) # Aumentei o tamanho da figura para caber os dois gráficos\n",
    "\n",
    "fig.suptitle('Análise Descritiva da Renda Total', fontsize=16)\n",
    "\n",
    "# 2. Desenhar o primeiro gráfico (Histograma) no primeiro eixo (axes[0])\n",
    "sns.histplot(data=df_dirtyshop, x=\"RNDTOT\", bins=20, kde=True, ax=axes[0])\n",
    "axes[0].set_title(\"Histograma de Frequência\")\n",
    "axes[0].set_xlabel(\"Renda Total\")\n",
    "axes[0].set_ylabel(\"Frequência\")\n",
    "\n",
    "# 3. Desenhar o segundo gráfico (Boxplot) no segundo eixo (axes[1])\n",
    "sns.boxplot(data=df_dirtyshop, x=\"RNDTOT\", ax=axes[1])\n",
    "axes[1].set_title(\"Boxplot Renda Total\") \n",
    "axes[1].set_xlabel(\"Renda Total\") \n",
    "\n",
    "# 4. Ajustar o layout e exibir a figura\n",
    "plt.tight_layout(rect=[0, 0, 1, 1]) # Ajusta o espaçamento para não sobrepor títulos\n",
    "plt.show()"
   ]
  },
  {
   "cell_type": "code",
   "execution_count": 107,
   "id": "d4006804",
   "metadata": {},
   "outputs": [
    {
     "data": {
      "text/html": [
       "<div>\n",
       "<style scoped>\n",
       "    .dataframe tbody tr th:only-of-type {\n",
       "        vertical-align: middle;\n",
       "    }\n",
       "\n",
       "    .dataframe tbody tr th {\n",
       "        vertical-align: top;\n",
       "    }\n",
       "\n",
       "    .dataframe thead th {\n",
       "        text-align: right;\n",
       "    }\n",
       "</style>\n",
       "<table border=\"1\" class=\"dataframe\">\n",
       "  <thead>\n",
       "    <tr style=\"text-align: right;\">\n",
       "      <th></th>\n",
       "      <th>CLIENTE</th>\n",
       "      <th>STATUS</th>\n",
       "      <th>IDADE</th>\n",
       "      <th>UNIFED</th>\n",
       "      <th>RESID</th>\n",
       "      <th>TMPRSD</th>\n",
       "      <th>FONE</th>\n",
       "      <th>ECIV</th>\n",
       "      <th>INSTRU</th>\n",
       "      <th>RNDTOT</th>\n",
       "      <th>RST</th>\n",
       "    </tr>\n",
       "  </thead>\n",
       "  <tbody>\n",
       "    <tr>\n",
       "      <th>1739</th>\n",
       "      <td>CLI_1740</td>\n",
       "      <td>BOM</td>\n",
       "      <td>21.0</td>\n",
       "      <td>SP</td>\n",
       "      <td>ALUGADA</td>\n",
       "      <td>3.0</td>\n",
       "      <td>1</td>\n",
       "      <td>CASADO</td>\n",
       "      <td>ENSINO MEDIO</td>\n",
       "      <td>23258</td>\n",
       "      <td>SIM</td>\n",
       "    </tr>\n",
       "  </tbody>\n",
       "</table>\n",
       "</div>"
      ],
      "text/plain": [
       "       CLIENTE STATUS  IDADE UNIFED    RESID  TMPRSD  FONE    ECIV  \\\n",
       "1739  CLI_1740    BOM   21.0     SP  ALUGADA     3.0     1  CASADO   \n",
       "\n",
       "            INSTRU  RNDTOT  RST  \n",
       "1739  ENSINO MEDIO   23258  SIM  "
      ]
     },
     "execution_count": 107,
     "metadata": {},
     "output_type": "execute_result"
    }
   ],
   "source": [
    "df_dirtyshop[df_dirtyshop['RNDTOT'] > 15000]"
   ]
  },
  {
   "cell_type": "code",
   "execution_count": 117,
   "id": "2b04921a",
   "metadata": {},
   "outputs": [
    {
     "data": {
      "text/html": [
       "<div>\n",
       "<style scoped>\n",
       "    .dataframe tbody tr th:only-of-type {\n",
       "        vertical-align: middle;\n",
       "    }\n",
       "\n",
       "    .dataframe tbody tr th {\n",
       "        vertical-align: top;\n",
       "    }\n",
       "\n",
       "    .dataframe thead th {\n",
       "        text-align: right;\n",
       "    }\n",
       "</style>\n",
       "<table border=\"1\" class=\"dataframe\">\n",
       "  <thead>\n",
       "    <tr style=\"text-align: right;\">\n",
       "      <th></th>\n",
       "      <th>RESID</th>\n",
       "      <th>ECIV</th>\n",
       "      <th>INSTRU</th>\n",
       "      <th>RNDTOT</th>\n",
       "    </tr>\n",
       "  </thead>\n",
       "  <tbody>\n",
       "    <tr>\n",
       "      <th>0</th>\n",
       "      <td>ALUGADA</td>\n",
       "      <td>CASADO</td>\n",
       "      <td>ENSINO FUNDAMENTAL</td>\n",
       "      <td>6806.083333</td>\n",
       "    </tr>\n",
       "    <tr>\n",
       "      <th>1</th>\n",
       "      <td>ALUGADA</td>\n",
       "      <td>CASADO</td>\n",
       "      <td>ENSINO MEDIO</td>\n",
       "      <td>6163.642857</td>\n",
       "    </tr>\n",
       "    <tr>\n",
       "      <th>2</th>\n",
       "      <td>ALUGADA</td>\n",
       "      <td>CASADO</td>\n",
       "      <td>NAO INFORMADO</td>\n",
       "      <td>6519.550000</td>\n",
       "    </tr>\n",
       "    <tr>\n",
       "      <th>3</th>\n",
       "      <td>ALUGADA</td>\n",
       "      <td>CASADO</td>\n",
       "      <td>SUPERIOR</td>\n",
       "      <td>6177.540541</td>\n",
       "    </tr>\n",
       "    <tr>\n",
       "      <th>4</th>\n",
       "      <td>ALUGADA</td>\n",
       "      <td>DIVORCIADO</td>\n",
       "      <td>ENSINO FUNDAMENTAL</td>\n",
       "      <td>6672.250000</td>\n",
       "    </tr>\n",
       "    <tr>\n",
       "      <th>...</th>\n",
       "      <td>...</td>\n",
       "      <td>...</td>\n",
       "      <td>...</td>\n",
       "      <td>...</td>\n",
       "    </tr>\n",
       "    <tr>\n",
       "      <th>58</th>\n",
       "      <td>PROPRIA</td>\n",
       "      <td>SOLTEIRO</td>\n",
       "      <td>SUPERIOR</td>\n",
       "      <td>5618.976077</td>\n",
       "    </tr>\n",
       "    <tr>\n",
       "      <th>59</th>\n",
       "      <td>PROPRIA</td>\n",
       "      <td>VIUVO</td>\n",
       "      <td>ENSINO FUNDAMENTAL</td>\n",
       "      <td>9060.750000</td>\n",
       "    </tr>\n",
       "    <tr>\n",
       "      <th>60</th>\n",
       "      <td>PROPRIA</td>\n",
       "      <td>VIUVO</td>\n",
       "      <td>ENSINO MEDIO</td>\n",
       "      <td>7690.500000</td>\n",
       "    </tr>\n",
       "    <tr>\n",
       "      <th>61</th>\n",
       "      <td>PROPRIA</td>\n",
       "      <td>VIUVO</td>\n",
       "      <td>NAO INFORMADO</td>\n",
       "      <td>9153.291667</td>\n",
       "    </tr>\n",
       "    <tr>\n",
       "      <th>62</th>\n",
       "      <td>PROPRIA</td>\n",
       "      <td>VIUVO</td>\n",
       "      <td>SUPERIOR</td>\n",
       "      <td>8716.444444</td>\n",
       "    </tr>\n",
       "  </tbody>\n",
       "</table>\n",
       "<p>63 rows × 4 columns</p>\n",
       "</div>"
      ],
      "text/plain": [
       "      RESID        ECIV              INSTRU       RNDTOT\n",
       "0   ALUGADA      CASADO  ENSINO FUNDAMENTAL  6806.083333\n",
       "1   ALUGADA      CASADO        ENSINO MEDIO  6163.642857\n",
       "2   ALUGADA      CASADO       NAO INFORMADO  6519.550000\n",
       "3   ALUGADA      CASADO            SUPERIOR  6177.540541\n",
       "4   ALUGADA  DIVORCIADO  ENSINO FUNDAMENTAL  6672.250000\n",
       "..      ...         ...                 ...          ...\n",
       "58  PROPRIA    SOLTEIRO            SUPERIOR  5618.976077\n",
       "59  PROPRIA       VIUVO  ENSINO FUNDAMENTAL  9060.750000\n",
       "60  PROPRIA       VIUVO        ENSINO MEDIO  7690.500000\n",
       "61  PROPRIA       VIUVO       NAO INFORMADO  9153.291667\n",
       "62  PROPRIA       VIUVO            SUPERIOR  8716.444444\n",
       "\n",
       "[63 rows x 4 columns]"
      ]
     },
     "execution_count": 117,
     "metadata": {},
     "output_type": "execute_result"
    }
   ],
   "source": [
    "df_gby_rtt = df_dirtyshop.groupby([\"RESID\",\"ECIV\", \"INSTRU\"])['RNDTOT'].mean().reset_index()\n",
    "df_gby_rtt"
   ]
  },
  {
   "cell_type": "code",
   "execution_count": 119,
   "id": "a577ffa8",
   "metadata": {},
   "outputs": [],
   "source": [
    "df_gby_rtt = df_dirtyshop.groupby(['RESID', \"ECIV\", \"INSTRU\"])['RNDTOT'].median().reset_index()"
   ]
  },
  {
   "cell_type": "code",
   "execution_count": 115,
   "id": "dcc0c72e",
   "metadata": {},
   "outputs": [
    {
     "data": {
      "text/html": [
       "<div>\n",
       "<style scoped>\n",
       "    .dataframe tbody tr th:only-of-type {\n",
       "        vertical-align: middle;\n",
       "    }\n",
       "\n",
       "    .dataframe tbody tr th {\n",
       "        vertical-align: top;\n",
       "    }\n",
       "\n",
       "    .dataframe thead th {\n",
       "        text-align: right;\n",
       "    }\n",
       "</style>\n",
       "<table border=\"1\" class=\"dataframe\">\n",
       "  <thead>\n",
       "    <tr style=\"text-align: right;\">\n",
       "      <th></th>\n",
       "      <th>RESID</th>\n",
       "      <th>ECIV</th>\n",
       "      <th>INSTRU</th>\n",
       "      <th>RNDTOT</th>\n",
       "    </tr>\n",
       "  </thead>\n",
       "  <tbody>\n",
       "    <tr>\n",
       "      <th>1</th>\n",
       "      <td>ALUGADA</td>\n",
       "      <td>CASADO</td>\n",
       "      <td>ENSINO MEDIO</td>\n",
       "      <td>6163.642857</td>\n",
       "    </tr>\n",
       "  </tbody>\n",
       "</table>\n",
       "</div>"
      ],
      "text/plain": [
       "     RESID    ECIV        INSTRU       RNDTOT\n",
       "1  ALUGADA  CASADO  ENSINO MEDIO  6163.642857"
      ]
     },
     "execution_count": 115,
     "metadata": {},
     "output_type": "execute_result"
    }
   ],
   "source": [
    "df_gby_rtt[(df_gby_rtt[\"RESID\"] ==\"ALUGADA\") & (df_gby_rtt[\"ECIV\"] == \"CASADO\") & (df_gby_rtt[\"INSTRU\"] == \"ENSINO MEDIO\") ]"
   ]
  },
  {
   "cell_type": "code",
   "execution_count": 120,
   "id": "5f4fbaab",
   "metadata": {},
   "outputs": [
    {
     "data": {
      "text/html": [
       "<div>\n",
       "<style scoped>\n",
       "    .dataframe tbody tr th:only-of-type {\n",
       "        vertical-align: middle;\n",
       "    }\n",
       "\n",
       "    .dataframe tbody tr th {\n",
       "        vertical-align: top;\n",
       "    }\n",
       "\n",
       "    .dataframe thead th {\n",
       "        text-align: right;\n",
       "    }\n",
       "</style>\n",
       "<table border=\"1\" class=\"dataframe\">\n",
       "  <thead>\n",
       "    <tr style=\"text-align: right;\">\n",
       "      <th></th>\n",
       "      <th>RESID</th>\n",
       "      <th>ECIV</th>\n",
       "      <th>INSTRU</th>\n",
       "      <th>RNDTOT</th>\n",
       "    </tr>\n",
       "  </thead>\n",
       "  <tbody>\n",
       "    <tr>\n",
       "      <th>1</th>\n",
       "      <td>ALUGADA</td>\n",
       "      <td>CASADO</td>\n",
       "      <td>ENSINO MEDIO</td>\n",
       "      <td>5644.0</td>\n",
       "    </tr>\n",
       "  </tbody>\n",
       "</table>\n",
       "</div>"
      ],
      "text/plain": [
       "     RESID    ECIV        INSTRU  RNDTOT\n",
       "1  ALUGADA  CASADO  ENSINO MEDIO  5644.0"
      ]
     },
     "execution_count": 120,
     "metadata": {},
     "output_type": "execute_result"
    }
   ],
   "source": [
    "df_gby_rtt[(df_gby_rtt[\"RESID\"] ==\"ALUGADA\") & (df_gby_rtt[\"ECIV\"] == \"CASADO\") & (df_gby_rtt[\"INSTRU\"] == \"ENSINO MEDIO\") ]"
   ]
  },
  {
   "cell_type": "code",
   "execution_count": 122,
   "id": "bc6e8602",
   "metadata": {},
   "outputs": [
    {
     "data": {
      "text/html": [
       "<div>\n",
       "<style scoped>\n",
       "    .dataframe tbody tr th:only-of-type {\n",
       "        vertical-align: middle;\n",
       "    }\n",
       "\n",
       "    .dataframe tbody tr th {\n",
       "        vertical-align: top;\n",
       "    }\n",
       "\n",
       "    .dataframe thead th {\n",
       "        text-align: right;\n",
       "    }\n",
       "</style>\n",
       "<table border=\"1\" class=\"dataframe\">\n",
       "  <thead>\n",
       "    <tr style=\"text-align: right;\">\n",
       "      <th></th>\n",
       "      <th>RESID</th>\n",
       "      <th>ECIV</th>\n",
       "      <th>INSTRU</th>\n",
       "      <th>RNDTOT</th>\n",
       "    </tr>\n",
       "  </thead>\n",
       "  <tbody>\n",
       "    <tr>\n",
       "      <th>1</th>\n",
       "      <td>ALUGADA</td>\n",
       "      <td>CASADO</td>\n",
       "      <td>ENSINO MEDIO</td>\n",
       "      <td>5644.0</td>\n",
       "    </tr>\n",
       "  </tbody>\n",
       "</table>\n",
       "</div>"
      ],
      "text/plain": [
       "     RESID    ECIV        INSTRU  RNDTOT\n",
       "1  ALUGADA  CASADO  ENSINO MEDIO  5644.0"
      ]
     },
     "execution_count": 122,
     "metadata": {},
     "output_type": "execute_result"
    }
   ],
   "source": [
    "df_mdiana = df_gby_rtt[(df_gby_rtt[\"RESID\"] ==\"ALUGADA\") & (df_gby_rtt[\"ECIV\"] == \"CASADO\") & (df_gby_rtt[\"INSTRU\"] == \"ENSINO MEDIO\") ]\n",
    "df_mdiana"
   ]
  },
  {
   "cell_type": "code",
   "execution_count": 123,
   "id": "823b83a0",
   "metadata": {},
   "outputs": [
    {
     "data": {
      "text/plain": [
       "1    5644.0\n",
       "Name: RNDTOT, dtype: float64"
      ]
     },
     "execution_count": 123,
     "metadata": {},
     "output_type": "execute_result"
    }
   ],
   "source": [
    "valor_mediana = df_mdiana[\"RNDTOT\"]\n",
    "valor_mediana"
   ]
  },
  {
   "cell_type": "code",
   "execution_count": 125,
   "id": "cf3778c9",
   "metadata": {},
   "outputs": [],
   "source": [
    "# atualizando a idade dos clientes com menos de 18 anos para idade média\n",
    "df_dirtyshop.loc[df_dirtyshop[\"RNDTOT\"] > 15000, \"RNDTOT\"] = valor_mediana"
   ]
  },
  {
   "cell_type": "code",
   "execution_count": 126,
   "id": "1d18c190",
   "metadata": {},
   "outputs": [
    {
     "data": {
      "text/html": [
       "<div>\n",
       "<style scoped>\n",
       "    .dataframe tbody tr th:only-of-type {\n",
       "        vertical-align: middle;\n",
       "    }\n",
       "\n",
       "    .dataframe tbody tr th {\n",
       "        vertical-align: top;\n",
       "    }\n",
       "\n",
       "    .dataframe thead th {\n",
       "        text-align: right;\n",
       "    }\n",
       "</style>\n",
       "<table border=\"1\" class=\"dataframe\">\n",
       "  <thead>\n",
       "    <tr style=\"text-align: right;\">\n",
       "      <th></th>\n",
       "      <th>CLIENTE</th>\n",
       "      <th>STATUS</th>\n",
       "      <th>IDADE</th>\n",
       "      <th>UNIFED</th>\n",
       "      <th>RESID</th>\n",
       "      <th>TMPRSD</th>\n",
       "      <th>FONE</th>\n",
       "      <th>ECIV</th>\n",
       "      <th>INSTRU</th>\n",
       "      <th>RNDTOT</th>\n",
       "      <th>RST</th>\n",
       "    </tr>\n",
       "  </thead>\n",
       "  <tbody>\n",
       "  </tbody>\n",
       "</table>\n",
       "</div>"
      ],
      "text/plain": [
       "Empty DataFrame\n",
       "Columns: [CLIENTE, STATUS, IDADE, UNIFED, RESID, TMPRSD, FONE, ECIV, INSTRU, RNDTOT, RST]\n",
       "Index: []"
      ]
     },
     "execution_count": 126,
     "metadata": {},
     "output_type": "execute_result"
    }
   ],
   "source": [
    "df_dirtyshop[df_dirtyshop[\"RNDTOT\"] > 15000]"
   ]
  }
 ],
 "metadata": {
  "kernelspec": {
   "display_name": "venv-dirtyshop",
   "language": "python",
   "name": "python3"
  },
  "language_info": {
   "codemirror_mode": {
    "name": "ipython",
    "version": 3
   },
   "file_extension": ".py",
   "mimetype": "text/x-python",
   "name": "python",
   "nbconvert_exporter": "python",
   "pygments_lexer": "ipython3",
   "version": "3.13.5"
  }
 },
 "nbformat": 4,
 "nbformat_minor": 5
}
