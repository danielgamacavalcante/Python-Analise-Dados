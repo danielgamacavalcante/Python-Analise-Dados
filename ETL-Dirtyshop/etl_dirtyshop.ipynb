{
 "cells": [
  {
   "cell_type": "markdown",
   "id": "d07cfc28",
   "metadata": {},
   "source": [
    "# Ferramentas importantes para análise de dados em **PYTHON**"
   ]
  },
  {
   "cell_type": "markdown",
   "id": "58c9c7ec",
   "metadata": {},
   "source": [
    "Métodos para tratamento de NA  \n",
    "\n",
    "| **Variável** | **Descrição** | **Aplicação** | \n",
    "|--------------|---------------|---------------| \n",
    "| .dropna      | Remove as linhas ou colunas que têm valores vazios (nulos). | df.dropna() |\n",
    "| .fillna      | Substitui os valores vazios por algum valor que você escolher (ex: 0, média, texto etc). | df.fillna(0) |\n",
    "| .isnull      | Retorna True se o valor for nulo (vazio) e False se não for. | df.isnull() |\n",
    "| .notnull      | É o oposto do isnull(). Retorna True se o valor não estiver vazio. | df.notnull() |\n",
    "| .mode      | Encontra o(s) valor(es) que mais aparecem em uma coluna. | df[\"cidade\"].mode() |\n",
    "| .mean      | Calcula a média aritmética das colunas numéricas. | df[\"idade\"].mean() |\n",
    "| .describre      | Mostra um resumo com as estatísticas principais das colunas numéricas (ou todas, se for configurado). | df.describe(include='all') |\n",
    "| pd.read_excel      | Importa uma ou mais planilhas de um arquivo Excel para um DataFrame do Pandas. | df = pd.read_excel(\"nome_arquivo.xlsx\") |\n",
    "| .replace     | Troca valores específicos por outros, de forma rápida. | df[\"coluna\"].replace(valor_antigo, novo_valor) |"
   ]
  },
  {
   "cell_type": "markdown",
   "id": "2ddb8016",
   "metadata": {},
   "source": [
    "# Exercício de ETL"
   ]
  },
  {
   "cell_type": "markdown",
   "id": "276d66c1",
   "metadata": {},
   "source": [
    "## Base de Dados\n",
    "Descrição dos dados:  `dirtyshop.xlsx`  \n",
    "Está planilha apresenta os dados de clientes de uma magazine.  \n",
    "\n",
    "\n",
    "\n",
    "| **Variável** | **Descrição** | **Formato Esperado** |\n",
    "|--------------|---------------|---------------| \n",
    "| CLIENTE      | Código simples de 1 a 1400 que identifica o cliente | Caractere |\n",
    "| STATUS       | Bom = Bom cliente ; Mau = mau cliente | Caractere |\n",
    "| IDADE        | Idade em anos completos | Numérico | \n",
    "| UNIFED       | Unidade da federação em que reside | Caractere |\n",
    "| RESID        | Tempo de residência (formato original) | Caractere |\n",
    "| TMPRSD       | Tempo de residência em anos completos | Numérico |  \n",
    "| FONE         | 0 = em branco ; 1 = sim ; 2 = não | Numérico | \n",
    "| ECIV         | Estado civil |  Caractere |\n",
    "| INSTRU       | Nível educacional |  Caractere |\n",
    "| RNDTOT       | Salários + outros rendimentos (GV$) | Numérico |\n",
    "| REST         | Restrições creditícias? Sim ou Não | Numérico |  \n",
    "\n",
    "--------------------------\n",
    "**EXTRACT**  \n",
    "\n",
    "* **Tarefa 1**: Use os comandos abaixo para \"sentir\" os dados. O que você percebe?  \n",
    "    * df.info() - Para ver os tipos de dados e os valores nulos.  \n",
    "    * df.head(10) - Para ver as 10 primeiras linhas.  \n",
    "\n",
    "Perguntas para você pensar: Existem colunas com valores faltando? Existem colunas com dados inconsistentes (escritos de formas diferentes)? Os nomes das colunas são claros?  \n",
    "\n",
    "**TRANSFORM**\n",
    "\n",
    "* **Tarefa 2**: Padronizar a coluna ECIV (Estado Civil)  \n",
    "* Problema: A coluna tem valores como CAS, CASAD, VIUVO, DIVORC. Precisamos padronizá-los.  \n",
    "* Ação: Mapeie os valores para um padrão mais claro. Por exemplo:  \n",
    "    * CAS e CASAD -> CASADO  \n",
    "    * VIUVO -> VIUVO  \n",
    "    * DIVORC -> DIVORCIADO  \n",
    "    * Dica: Use o método .replace()  \n",
    "  \n",
    "* **Tarefa 3**: Tratar valores ausentes na coluna INSTRU (Instrução)  \n",
    "* Problema: A coluna INSTRU tem vários valores faltando (mostrados como NaN no df.info()).  \n",
    "    * Ação: Preencha os valores ausentes com a string \"NAO INFORMADO\".  \n",
    "    * Dica: Use o método .fillna().  \n",
    "  \n",
    "* **Tarefa 4**: Renomear as colunas para nomes mais claros  \n",
    "* Problema: Nomes como UNIFED, TMPRSD, RNDTOT são abreviados e difíceis de entender.  \n",
    "    * Ação: Renomeie as colunas para nomes mais descritivos e em minúsculo (uma boa prática).  \n",
    "    * Dica: Use o método .rename().  \n",
    "\n",
    "**LOAD**\n",
    "* **Tarefa 5**: Salve o DataFrame limpo em um novo banco de dados (tem uma colinha no final, mas vocês tem que organizar os parâmetros).  \n"
   ]
  },
  {
   "cell_type": "markdown",
   "id": "c361cf44",
   "metadata": {},
   "source": [
    "# E- Extraction"
   ]
  },
  {
   "cell_type": "code",
   "execution_count": null,
   "id": "0dcb79c1",
   "metadata": {},
   "outputs": [],
   "source": [
    "# caso não tenha baixado as ferramentas, usar:\n",
    "# !pip install -q sqlalchemy\n",
    "# !pip install -q sqlalchemy_utils\n",
    "# !pip install -q pandas\n",
    "!pip install -q openpyxl"
   ]
  },
  {
   "cell_type": "code",
   "execution_count": 5,
   "id": "4da577bf",
   "metadata": {},
   "outputs": [],
   "source": [
    "import pandas as pd"
   ]
  },
  {
   "cell_type": "code",
   "execution_count": null,
   "id": "fb924b04",
   "metadata": {},
   "outputs": [
    {
     "data": {
      "text/html": [
       "<div>\n",
       "<style scoped>\n",
       "    .dataframe tbody tr th:only-of-type {\n",
       "        vertical-align: middle;\n",
       "    }\n",
       "\n",
       "    .dataframe tbody tr th {\n",
       "        vertical-align: top;\n",
       "    }\n",
       "\n",
       "    .dataframe thead th {\n",
       "        text-align: right;\n",
       "    }\n",
       "</style>\n",
       "<table border=\"1\" class=\"dataframe\">\n",
       "  <thead>\n",
       "    <tr style=\"text-align: right;\">\n",
       "      <th></th>\n",
       "      <th>CLIENTE</th>\n",
       "      <th>STATUS</th>\n",
       "      <th>IDADE</th>\n",
       "      <th>UNIFED</th>\n",
       "      <th>RESID</th>\n",
       "      <th>TMPRSD</th>\n",
       "      <th>FONE</th>\n",
       "      <th>ECIV</th>\n",
       "      <th>INSTRU</th>\n",
       "      <th>RNDTOT</th>\n",
       "      <th>RST</th>\n",
       "    </tr>\n",
       "  </thead>\n",
       "  <tbody>\n",
       "    <tr>\n",
       "      <th>0</th>\n",
       "      <td>CLI_0001</td>\n",
       "      <td>mau</td>\n",
       "      <td>44.0</td>\n",
       "      <td>MG</td>\n",
       "      <td>PROP</td>\n",
       "      <td>5.0</td>\n",
       "      <td>1</td>\n",
       "      <td>CAS</td>\n",
       "      <td>SEC</td>\n",
       "      <td>6040</td>\n",
       "      <td>sim</td>\n",
       "    </tr>\n",
       "    <tr>\n",
       "      <th>1</th>\n",
       "      <td>CLI_0002</td>\n",
       "      <td>bom</td>\n",
       "      <td>46.0</td>\n",
       "      <td>MG</td>\n",
       "      <td>ALUG</td>\n",
       "      <td>12.0</td>\n",
       "      <td>1</td>\n",
       "      <td>CAS</td>\n",
       "      <td>SUP</td>\n",
       "      <td>6986</td>\n",
       "      <td>sim</td>\n",
       "    </tr>\n",
       "    <tr>\n",
       "      <th>2</th>\n",
       "      <td>CLI_0003</td>\n",
       "      <td>bom</td>\n",
       "      <td>56.0</td>\n",
       "      <td>MG</td>\n",
       "      <td>PROP</td>\n",
       "      <td>12.0</td>\n",
       "      <td>1</td>\n",
       "      <td>CAS</td>\n",
       "      <td>SUP</td>\n",
       "      <td>8797</td>\n",
       "      <td>sim</td>\n",
       "    </tr>\n",
       "    <tr>\n",
       "      <th>3</th>\n",
       "      <td>CLI_0004</td>\n",
       "      <td>bom</td>\n",
       "      <td>31.0</td>\n",
       "      <td>RJ</td>\n",
       "      <td>ALUG</td>\n",
       "      <td>4.0</td>\n",
       "      <td>1</td>\n",
       "      <td>CAS</td>\n",
       "      <td>SEC</td>\n",
       "      <td>4968</td>\n",
       "      <td>sim</td>\n",
       "    </tr>\n",
       "    <tr>\n",
       "      <th>4</th>\n",
       "      <td>CLI_0005</td>\n",
       "      <td>bom</td>\n",
       "      <td>46.0</td>\n",
       "      <td>RJ</td>\n",
       "      <td>PROP</td>\n",
       "      <td>8.0</td>\n",
       "      <td>1</td>\n",
       "      <td>CAS</td>\n",
       "      <td>NaN</td>\n",
       "      <td>7430</td>\n",
       "      <td>sim</td>\n",
       "    </tr>\n",
       "  </tbody>\n",
       "</table>\n",
       "</div>"
      ],
      "text/plain": [
       "    CLIENTE STATUS  IDADE UNIFED RESID  TMPRSD  FONE ECIV INSTRU  RNDTOT  RST\n",
       "0  CLI_0001    mau   44.0     MG  PROP     5.0     1  CAS    SEC    6040  sim\n",
       "1  CLI_0002    bom   46.0     MG  ALUG    12.0     1  CAS    SUP    6986  sim\n",
       "2  CLI_0003    bom   56.0     MG  PROP    12.0     1  CAS    SUP    8797  sim\n",
       "3  CLI_0004    bom   31.0     RJ  ALUG     4.0     1  CAS    SEC    4968  sim\n",
       "4  CLI_0005    bom   46.0     RJ  PROP     8.0     1  CAS    NaN    7430  sim"
      ]
     },
     "execution_count": 6,
     "metadata": {},
     "output_type": "execute_result"
    }
   ],
   "source": [
    "# carregar o arquivo (usar o pd.read_excel)\n",
    "# verificar os tipos de dados (shape, info, describe)\n",
    "\n",
    "df = pd.read_excel(\"./base-dados/dirtyshop.xlsx\", sheet_name=\"DIRTYSHOPCSV\")"
   ]
  },
  {
   "cell_type": "markdown",
   "id": "c52807dd",
   "metadata": {},
   "source": [
    "# T - Transform"
   ]
  },
  {
   "cell_type": "code",
   "execution_count": null,
   "id": "c04c8cda",
   "metadata": {},
   "outputs": [],
   "source": [
    "# substituir os valores nulos por não informado, para casos de dados categóricos\n",
    "# substituir os valores para média, para casos de dados numéricos"
   ]
  },
  {
   "cell_type": "markdown",
   "id": "c00f8b67",
   "metadata": {},
   "source": [
    "# L - Load"
   ]
  },
  {
   "cell_type": "markdown",
   "id": "5aabe0c3",
   "metadata": {},
   "source": [
    "Dica para salvar os dados no postgres (conforme visto em sala de aula)"
   ]
  },
  {
   "cell_type": "code",
   "execution_count": null,
   "id": "6ae604af",
   "metadata": {},
   "outputs": [],
   "source": [
    "from sqlalchemy import create_engine\n",
    "from sqlalchemy_utils import create_database"
   ]
  },
  {
   "cell_type": "code",
   "execution_count": null,
   "id": "fc15061a",
   "metadata": {},
   "outputs": [],
   "source": [
    "# Criando a conexão com o banco PostgreSQL\n",
    "print(\"\\nIniciando a etapa de Carregamento para o PostgreSQL...\\n\")\n",
    "\n",
    "# credenciais do banco de dados\n",
    "db_user = 'postgres'\n",
    "db_password = '1234' \n",
    "db_host = 'localhost'\n",
    "db_port = '5432'\n",
    "db_name = 'etl_traffic'\n",
    "\n",
    "# Criar uma engine de conexão\n",
    "# engine_str = f\"postgresql+psycopg2://{db_name}:{db_password}@{db_host}:{db_port}/{db_name}\"\n",
    "engine_server = create_engine(f\"postgresql://{db_user}:{db_password}@{db_host}:{db_port}/{db_name}\")\n",
    "print(engine_server)"
   ]
  },
  {
   "cell_type": "code",
   "execution_count": null,
   "id": "24411c2f",
   "metadata": {},
   "outputs": [],
   "source": [
    "# cirnado um banco de dados\n",
    "create_database(engine_server.url)"
   ]
  },
  {
   "cell_type": "code",
   "execution_count": null,
   "id": "16b2a5bf",
   "metadata": {},
   "outputs": [],
   "source": [
    "# Salvando o dataframe no banco\n",
    "\n",
    "tabela_df.to_sql(name='nome_da_tabela', con=engine_server, schema='public', if_exists='replace', index=False)"
   ]
  },
  {
   "cell_type": "markdown",
   "id": "a235e7ec",
   "metadata": {},
   "source": []
  }
 ],
 "metadata": {
  "kernelspec": {
   "display_name": "etl-venv",
   "language": "python",
   "name": "python3"
  },
  "language_info": {
   "codemirror_mode": {
    "name": "ipython",
    "version": 3
   },
   "file_extension": ".py",
   "mimetype": "text/x-python",
   "name": "python",
   "nbconvert_exporter": "python",
   "pygments_lexer": "ipython3",
   "version": "3.11.9"
  }
 },
 "nbformat": 4,
 "nbformat_minor": 5
}
